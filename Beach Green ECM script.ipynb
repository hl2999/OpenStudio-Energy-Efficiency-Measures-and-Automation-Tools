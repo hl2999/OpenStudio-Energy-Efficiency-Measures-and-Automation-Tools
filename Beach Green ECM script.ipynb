{
 "cells": [
  {
   "cell_type": "code",
   "execution_count": 2,
   "metadata": {
    "scrolled": false
   },
   "outputs": [
    {
     "data": {
      "text/plain": [
       ":osload"
      ]
     },
     "execution_count": 2,
     "metadata": {},
     "output_type": "execute_result"
    }
   ],
   "source": [
    "require 'openstudio'\n",
    "def osload(path)\n",
    "translator = OpenStudio::OSVersion::VersionTranslator.new\n",
    "  ospath = OpenStudio::Path.new(path)\n",
    "  model = translator.loadModel(ospath)\n",
    "  if model.empty?\n",
    "    raise \"Path '#{path}' is not a valid path to an OpenStudio Model\"\n",
    "  else\n",
    "    model = model.get\n",
    "  end\n",
    "  return model\n",
    "end"
   ]
  },
  {
   "cell_type": "code",
   "execution_count": 18,
   "metadata": {},
   "outputs": [
    {
     "data": {
      "text/plain": [
       "#<OpenStudio::Model::Model:0x0000000e078290 @__swigtype__=\"_p_openstudio__model__Model\">"
      ]
     },
     "execution_count": 18,
     "metadata": {},
     "output_type": "execute_result"
    }
   ],
   "source": [
    "m0 = osload('C:\\Users\\HangLi\\Altanova\\Team - Documents\\PROJECTS\\Beach Green Dunes III\\PSEG-LI\\Model 12.3\\Beach Green Dunes III ECM1.1.osm')"
   ]
  },
  {
   "cell_type": "code",
   "execution_count": 20,
   "metadata": {
    "scrolled": true
   },
   "outputs": [
    {
     "name": "stdout",
     "output_type": "stream",
     "text": [
      "Fan On Off 9\n",
      "Fan On Off 65\n",
      "Fan On Off 63\n",
      "Fan On Off 36\n",
      "Fan On Off 37\n",
      "Fan On Off 19\n",
      "Fan On Off 1\n",
      "Fan On Off 54\n",
      "Fan On Off 2\n",
      "Fan On Off 32\n",
      "Fan On Off 45\n",
      "Fan On Off 7\n",
      "Fan On Off 34\n",
      "Fan On Off 3\n",
      "Fan On Off 42\n",
      "Fan On Off 40\n",
      "Fan On Off 4\n",
      "Fan On Off 20\n",
      "Fan On Off 8\n",
      "Fan On Off 55\n",
      "Fan On Off 6\n",
      "Fan On Off 58\n",
      "Fan On Off 5\n",
      "Fan On Off 57\n",
      "Fan On Off 10\n",
      "Fan On Off 11\n",
      "Fan On Off 12\n",
      "Fan On Off 14\n",
      "Fan On Off 31\n",
      "Fan On Off 28\n",
      "Fan On Off 13\n",
      "Fan On Off 50\n",
      "Fan On Off 41\n",
      "Fan On Off 15\n",
      "Fan On Off 16\n",
      "Fan On Off 17\n",
      "Fan On Off 61\n",
      "Fan On Off 52\n",
      "Fan On Off 18\n",
      "Fan On Off 49\n",
      "Fan On Off 21\n",
      "Fan On Off 64\n",
      "Fan On Off 22\n",
      "Fan On Off 23\n",
      "Fan On Off 48\n",
      "Fan On Off 24\n",
      "Fan On Off 51\n",
      "Fan On Off 25\n",
      "Fan On Off 26\n",
      "Fan On Off 27\n",
      "Fan On Off 29\n",
      "Fan On Off 30\n",
      "Fan On Off 33\n",
      "Fan On Off 35\n",
      "Fan On Off 38\n",
      "Fan On Off 46\n",
      "Fan On Off 39\n",
      "Fan On Off 43\n",
      "Fan On Off 44\n",
      "Fan On Off 47\n",
      "Fan On Off 53\n",
      "Fan On Off 56\n",
      "Fan On Off 59\n",
      "Fan On Off 60\n",
      "Fan On Off 62\n",
      "Fan On Off 66\n",
      "Fan On Off 67\n"
     ]
    }
   ],
   "source": [
    "m0.getFanOnOffs.each do |fan|\n",
    "  puts fan.name\n",
    "  fan.setFanTotalEfficiency(0.88)\n",
    "end\n",
    "nil"
   ]
  },
  {
   "cell_type": "code",
   "execution_count": 16,
   "metadata": {
    "scrolled": true
   },
   "outputs": [
    {
     "name": "stdout",
     "output_type": "stream",
     "text": [
      "Coil Heating Electric 51\n",
      "Coil Heating Electric 1\n",
      "Coil Heating Electric 48\n",
      "Coil Heating Electric 8\n",
      "Coil Heating Electric 37\n",
      "Coil Heating Electric 2\n",
      "Coil Heating Electric 3\n",
      "Coil Heating Electric 65\n",
      "Coil Heating Electric 7\n",
      "Coil Heating Electric 5\n",
      "Coil Heating Electric 31\n",
      "Coil Heating Electric 16\n",
      "Coil Heating Electric 4\n",
      "Coil Heating Electric 23\n",
      "Coil Heating Electric 20\n",
      "Coil Heating Electric 6\n",
      "Coil Heating Electric 30\n",
      "Coil Heating Electric 9\n",
      "Coil Heating Electric 10\n",
      "Coil Heating Electric 33\n",
      "Coil Heating Electric 11\n",
      "Coil Heating Electric 12\n",
      "Coil Heating Electric 21\n",
      "Coil Heating Electric 13\n",
      "Coil Heating Electric 61\n",
      "Coil Heating Electric 43\n",
      "Coil Heating Electric 38\n",
      "Coil Heating Electric 14\n",
      "Coil Heating Electric 15\n",
      "Coil Heating Electric 60\n",
      "Coil Heating Electric 52\n",
      "Coil Heating Electric 17\n",
      "Coil Heating Electric 18\n",
      "Coil Heating Electric 44\n",
      "Coil Heating Electric 19\n",
      "Coil Heating Electric 24\n",
      "Coil Heating Electric 22\n",
      "Coil Heating Electric 53\n",
      "Coil Heating Electric 25\n",
      "Coil Heating Electric 26\n",
      "Coil Heating Electric 36\n",
      "Coil Heating Electric 27\n",
      "Coil Heating Electric 35\n",
      "Coil Heating Electric 28\n",
      "Coil Heating Electric 56\n",
      "Coil Heating Electric 29\n",
      "Coil Heating Electric 32\n",
      "Coil Heating Electric 34\n",
      "Coil Heating Electric 45\n",
      "Coil Heating Electric 39\n",
      "Coil Heating Electric 63\n",
      "Coil Heating Electric 46\n",
      "Coil Heating Electric 40\n",
      "Coil Heating Electric 41\n",
      "Coil Heating Electric 62\n",
      "Coil Heating Electric 42\n",
      "Coil Heating Electric 47\n",
      "Coil Heating Electric 49\n",
      "Coil Heating Electric 50\n",
      "Coil Heating Electric 54\n",
      "Coil Heating Electric 55\n",
      "Coil Heating Electric 57\n",
      "Coil Heating Electric 58\n",
      "Coil Heating Electric 59\n",
      "Coil Heating Electric 64\n",
      "Coil Heating Electric 66\n",
      "Coil Heating Electric 67\n"
     ]
    }
   ],
   "source": [
    "m0.getCoilHeatingElectrics.each do |coil|\n",
    "  puts coil.name\n",
    "  coil.setAvailabilitySchedule(m0.getScheduleRulesetByName('Always Off Schedule').get)\n",
    "end\n",
    "nil"
   ]
  },
  {
   "cell_type": "code",
   "execution_count": 23,
   "metadata": {},
   "outputs": [
    {
     "data": {
      "text/plain": [
       "true"
      ]
     },
     "execution_count": 23,
     "metadata": {},
     "output_type": "execute_result"
    }
   ],
   "source": [
    "m0.save('C:\\Users\\HangLi\\Altanova\\Team - Documents\\PROJECTS\\Beach Green Dunes III\\PSEG-LI\\Model 12.3\\Beach Green Dunes III ECM1.1.osm',true)"
   ]
  },
  {
   "cell_type": "code",
   "execution_count": null,
   "metadata": {},
   "outputs": [],
   "source": []
  },
  {
   "cell_type": "code",
   "execution_count": null,
   "metadata": {},
   "outputs": [],
   "source": []
  },
  {
   "cell_type": "code",
   "execution_count": null,
   "metadata": {},
   "outputs": [],
   "source": [
    "m0 = osload('C:\\Users\\HangLi\\Altanova\\Team - Documents\\PROJECTS\\Beach Green Dunes III\\PSEG-LI\\Model\\Beach Green Dunes III baseline.osm')"
   ]
  },
  {
   "cell_type": "code",
   "execution_count": null,
   "metadata": {
    "scrolled": true
   },
   "outputs": [],
   "source": [
    "# add exhaust fan for baseline (not working because of the nodes)\n",
    "\n",
    "# m0.getThermalZones.each do |tz|\n",
    "#   if tz.name.to_s.include?\"Apt\" or tz.name.to_s.include?\"apt\"\n",
    "#     puts tz.name\n",
    "#     fan = m0.getFanZoneExhausts[0].clone(m0)\n",
    "#     tz.addEquipment(fan)\n",
    "#   end\n",
    "# end\n",
    "# nil\n",
    "# m0.save('Beach Green Dunes III baseline.osm',true)"
   ]
  },
  {
   "cell_type": "code",
   "execution_count": null,
   "metadata": {},
   "outputs": [],
   "source": []
  },
  {
   "cell_type": "code",
   "execution_count": null,
   "metadata": {},
   "outputs": [],
   "source": []
  },
  {
   "cell_type": "code",
   "execution_count": null,
   "metadata": {
    "scrolled": true
   },
   "outputs": [],
   "source": [
    "m = osload('D:\\Box Sync\\PROJECTS\\Beach Green Dunes III\\PSEG-LI\\Model\\Beach Green Dunes III ECM1.1.osm')"
   ]
  },
  {
   "cell_type": "code",
   "execution_count": null,
   "metadata": {},
   "outputs": [],
   "source": [
    "m.getSetpointManagers.each do |set|\n",
    "  puts set.name\n",
    "end\n",
    "nil"
   ]
  },
  {
   "cell_type": "code",
   "execution_count": null,
   "metadata": {},
   "outputs": [],
   "source": [
    "puts m.getSetpointManagers[2]"
   ]
  },
  {
   "cell_type": "code",
   "execution_count": null,
   "metadata": {},
   "outputs": [],
   "source": []
  },
  {
   "cell_type": "code",
   "execution_count": null,
   "metadata": {},
   "outputs": [],
   "source": [
    "# REMOVE EMS\n",
    "class OpenStudio::Model::ModelObject\n",
    "  # from Julien Marrec\n",
    "  # https://unmethours.com/question/17616/get-thermal-zone-supply-terminal/\n",
    "  \n",
    "  # Extend ModelObject class to add a to_actual_object method\n",
    "  # Casts a ModelObject into what it actually is (OS:Node for example...)\n",
    "  def to_actual_object\n",
    "    obj_type = self.iddObjectType.valueName\n",
    "    obj_type_name = obj_type.gsub('OS_','').gsub('_','')\n",
    "    method_name = \"to_#{obj_type_name}\"\n",
    "    if self.respond_to?(method_name)\n",
    "      actual_thing = self.method(method_name).call\n",
    "      if !actual_thing.empty?\n",
    "          return actual_thing.get\n",
    "      end\n",
    "    end\n",
    "    return false\n",
    "  end\n",
    "  \n",
    "end"
   ]
  },
  {
   "cell_type": "code",
   "execution_count": null,
   "metadata": {},
   "outputs": [],
   "source": [
    "m0.modelObjects.each do |obj|    \n",
    "  if obj.to_actual_object.class.to_s.include?('EnergyManagementSystem')\n",
    "    puts obj.to_actual_object.class.to_s\n",
    "    count += 1\n",
    "  end\n",
    "end\n",
    "nil"
   ]
  },
  {
   "cell_type": "code",
   "execution_count": null,
   "metadata": {},
   "outputs": [],
   "source": []
  },
  {
   "cell_type": "code",
   "execution_count": null,
   "metadata": {},
   "outputs": [],
   "source": []
  },
  {
   "cell_type": "markdown",
   "metadata": {},
   "source": [
    "# ECM 1.1 GSHP"
   ]
  },
  {
   "cell_type": "markdown",
   "metadata": {},
   "source": [
    "\n",
    "### 2. apply DivisionOnly (a bug in OS 2.9.0)\n"
   ]
  },
  {
   "cell_type": "code",
   "execution_count": 2,
   "metadata": {},
   "outputs": [
    {
     "data": {
      "text/plain": [
       "#<OpenStudio::Model::Model:0x0000000720fa60 @__swigtype__=\"_p_openstudio__model__Model\">"
      ]
     },
     "execution_count": 2,
     "metadata": {},
     "output_type": "execute_result"
    }
   ],
   "source": [
    "m0 = osload('C:\\Users\\HangLi\\Altanova\\Team - Documents\\PROJECTS\\Beach Green Dunes III\\PSEG-LI\\Model\\Beach Green Dunes III ECM1.1.osm')"
   ]
  },
  {
   "cell_type": "code",
   "execution_count": 3,
   "metadata": {},
   "outputs": [],
   "source": [
    "# reset Heating COP to 4.2\n",
    "m0.getCoilHeatingWaterToAirHeatPumpVariableSpeedEquationFitSpeedDatas.each do |d|\n",
    "  puts d.name\n",
    "  d.setReferenceUnitGrossRatedHeatingCOP(4.2)\n",
    "end\n",
    "nil"
   ]
  },
  {
   "cell_type": "code",
   "execution_count": null,
   "metadata": {},
   "outputs": [],
   "source": [
    "### TO DO ###\n",
    "#1. SET DOAS cooling COP to 5.2\n",
    "#2. SET DOAS fan total efficiency to 0.8"
   ]
  },
  {
   "cell_type": "code",
   "execution_count": null,
   "metadata": {},
   "outputs": [],
   "source": []
  },
  {
   "cell_type": "code",
   "execution_count": null,
   "metadata": {},
   "outputs": [],
   "source": [
    "# remove dcv\n",
    "m0.getAirLoopHVACs.each do |air_loop|\n",
    "  air_loop.supplyComponents.each do |supply_component|\n",
    "    hVACComponent = supply_component.to_AirLoopHVACOutdoorAirSystem\n",
    "    if hVACComponent.is_initialized\n",
    "      hVACComponent = hVACComponent.get\n",
    "      controller_oa = hVACComponent.getControllerOutdoorAir\n",
    "      controller_mv = controller_oa.controllerMechanicalVentilation    \n",
    "      controller_mv.setDemandControlledVentilation(false)\n",
    "    end\n",
    "  end\n",
    "end\n",
    "nil"
   ]
  },
  {
   "cell_type": "code",
   "execution_count": null,
   "metadata": {},
   "outputs": [],
   "source": [
    "# remove ERV\n",
    "m0.getHeatExchangerAirToAirSensibleAndLatents.each do |erv|\n",
    "  puts erv.name\n",
    "  erv.remove\n",
    "end\n",
    "nil"
   ]
  },
  {
   "cell_type": "code",
   "execution_count": 22,
   "metadata": {
    "scrolled": true
   },
   "outputs": [
    {
     "name": "stdout",
     "output_type": "stream",
     "text": [
      "Switching VAVNoReheat to first priority for Thermal Zone: F6 Apt 1\n",
      "Switching VAVNoReheat to first priority for Thermal Zone: F5 Apt 2\n",
      "Switching VAVNoReheat to first priority for Thermal Zone: F6 Apt 2\n",
      "Switching VAVNoReheat to first priority for Thermal Zone: F3 Apt 4\n",
      "Switching VAVNoReheat to first priority for Thermal Zone: F8 Apt 4\n",
      "Switching VAVNoReheat to first priority for Thermal Zone: F8 Apt 1\n",
      "Switching VAVNoReheat to first priority for Thermal Zone: F5 Apt 4\n",
      "Switching VAVNoReheat to first priority for Thermal Zone: F7 Apt 4\n",
      "Switching VAVNoReheat to first priority for Thermal Zone: F2 Apt 2\n",
      "Switching VAVNoReheat to first priority for Thermal Zone: GF Apt 1\n",
      "Switching VAVNoReheat to first priority for Thermal Zone: F6 Apt 3\n",
      "Switching VAVNoReheat to first priority for Thermal Zone: F8 Apt 3\n",
      "Switching VAVNoReheat to first priority for Thermal Zone: F2 Apt 4\n",
      "Switching VAVNoReheat to first priority for Thermal Zone: F2 Apt 3\n",
      "Switching VAVNoReheat to first priority for Thermal Zone: F7 Apt 2\n",
      "Switching VAVNoReheat to first priority for Thermal Zone: F5 Apt 1\n",
      "Switching VAVNoReheat to first priority for Thermal Zone: F3 Apt 1\n",
      "Switching VAVNoReheat to first priority for Thermal Zone: F3 Apt 2\n",
      "Switching VAVNoReheat to first priority for Thermal Zone: F3 Apt 3\n",
      "Switching VAVNoReheat to first priority for Thermal Zone: F4 Apt 1\n",
      "Switching VAVNoReheat to first priority for Thermal Zone: F5 Apt 3\n",
      "Switching VAVNoReheat to first priority for Thermal Zone: F4 Apt 2\n",
      "Switching VAVNoReheat to first priority for Thermal Zone: F4 Apt 3\n",
      "Switching VAVNoReheat to first priority for Thermal Zone: F5 Apt 5\n",
      "Switching VAVNoReheat to first priority for Thermal Zone: F7 Apt 5\n",
      "Switching VAVNoReheat to first priority for Thermal Zone: F4 Apt 4\n",
      "Switching VAVNoReheat to first priority for Thermal Zone: F6 Apt 5\n",
      "Switching VAVNoReheat to first priority for Thermal Zone: F6 Apt 4\n",
      "Switching VAVNoReheat to first priority for Thermal Zone: F7 Apt 3\n",
      "Switching VAVNoReheat to first priority for Thermal Zone: F7 Apt 1\n",
      "Switching VAVNoReheat to first priority for Thermal Zone: F8 Apt 2\n",
      "Switching VAVNoReheat to first priority for Thermal Zone: F8 Apt 5\n",
      "Switching VAVNoReheat to first priority for Thermal Zone: F2 Apt\n"
     ]
    }
   ],
   "source": [
    "# change hvac priority:  1. outdoor air system (vav) 2. heat pump\n",
    "m0.getThermalZones.each do |z|\n",
    "  z.equipment.each do |e|\n",
    "    if e.to_AirTerminalSingleDuctConstantVolumeNoReheat.is_initialized\n",
    "      puts \"Switching VAVNoReheat to first priority for #{z.name.to_s}\"\n",
    "      z.setHeatingPriority(e, 1)\n",
    "      z.setCoolingPriority(e, 1)\n",
    "    end\n",
    "  end\n",
    "end\n",
    "nil"
   ]
  },
  {
   "cell_type": "code",
   "execution_count": null,
   "metadata": {
    "scrolled": true
   },
   "outputs": [],
   "source": [
    "# replace unitary system with DX cooling and DX heating\n",
    "m0.getAirLoopHVACs.each do |airloop|\n",
    "  puts airloop.name\n",
    "  unitary_systems = airloop.supplyComponents(\"OS:AirLoopHVAC:UnitarySystem\".to_IddObjectType)\n",
    "  u1= unitary_systems[0].to_AirLoopHVACUnitarySystem.get\n",
    "  u2 = unitary_systems[1].to_AirLoopHVACUnitarySystem.get\n",
    "  \n",
    "  node1 = u1.inletNode.get\n",
    "  u1.remove\n",
    "  coil_dxcooling = OpenStudio::Model::CoilCoolingDXTwoSpeed.new(m0)\n",
    "  coil_dxcooling.addToNode(node1)\n",
    "  \n",
    "  node2 = u2.inletNode.get\n",
    "  u2.remove\n",
    "  coil_dxheating = OpenStudio::Model::CoilHeatingDXSingleSpeed.new(m0)\n",
    "  coil_dxheating.addToNode(node2)\n",
    "  \n",
    "end\n",
    "nil"
   ]
  },
  {
   "cell_type": "code",
   "execution_count": null,
   "metadata": {},
   "outputs": [],
   "source": [
    "# change schedules: AEDG K-12 Ventilation Schedule\n",
    "vent_sche=m0.getScheduleRulesetByName('AEDG K-12 Ventilation Schedule').get\n",
    "vent_daysche = vent_sche.defaultDaySchedule\n",
    "vent_daysche.clearValues()\n",
    "vent_daysche.addValue(OpenStudio::Time.new(0,24,0,0),1)\n",
    "\n",
    "# delete weekend and summer schedules\n",
    "vent_sche.scheduleRules.each do |sr|\n",
    "  puts sr.name\n",
    "  sr.remove\n",
    "end\n",
    "nil"
   ]
  },
  {
   "cell_type": "code",
   "execution_count": 5,
   "metadata": {},
   "outputs": [],
   "source": [
    "# heat pump all OA autosized\n",
    "# blowthrough --> drawthrough\n",
    "\n",
    "m0.getZoneHVACWaterToAirHeatPumps.each do |hp|\n",
    "  hp.autosizeSupplyAirFlowRateWhenNoCoolingorHeatingisNeeded()\n",
    "  hp.autosizeOutdoorAirFlowRateDuringCoolingOperation()\n",
    "  hp.autosizeOutdoorAirFlowRateDuringHeatingOperation()\n",
    "  hp.autosizeOutdoorAirFlowRateWhenNoCoolingorHeatingisNeeded()\n",
    "  hp.setFanPlacement(\"DrawThrough\")\n",
    "end\n",
    "nil\n"
   ]
  },
  {
   "cell_type": "code",
   "execution_count": null,
   "metadata": {},
   "outputs": [],
   "source": []
  },
  {
   "cell_type": "code",
   "execution_count": 6,
   "metadata": {},
   "outputs": [
    {
     "data": {
      "text/plain": [
       "true"
      ]
     },
     "execution_count": 6,
     "metadata": {},
     "output_type": "execute_result"
    }
   ],
   "source": [
    "m0.save('Beach Green Dunes III ECM1.1 - updated.osm',true)"
   ]
  },
  {
   "cell_type": "code",
   "execution_count": null,
   "metadata": {},
   "outputs": [],
   "source": []
  },
  {
   "cell_type": "code",
   "execution_count": null,
   "metadata": {},
   "outputs": [],
   "source": []
  },
  {
   "cell_type": "markdown",
   "metadata": {},
   "source": [
    "# ECM1.2 DOAS\n"
   ]
  },
  {
   "cell_type": "code",
   "execution_count": 95,
   "metadata": {},
   "outputs": [
    {
     "data": {
      "text/plain": [
       "#<OpenStudio::Model::Model:0x00000005489590 @__swigtype__=\"_p_openstudio__model__Model\">"
      ]
     },
     "execution_count": 95,
     "metadata": {},
     "output_type": "execute_result"
    }
   ],
   "source": [
    "m0 = osload('D:\\Box Sync\\PROJECTS\\Beach Green Dunes III\\PSEG-LI\\Model\\Beach Green Dunes III ECM1.1.osm')"
   ]
  },
  {
   "cell_type": "code",
   "execution_count": 82,
   "metadata": {},
   "outputs": [],
   "source": [
    "# # create controller outdoor air\n",
    "# controller_OA = OpenStudio::Model::ControllerOutdoorAir.new(model)\n",
    "# controller_OA.autosizeMinimumOutdoorAirFlowRate()\n",
    "# controller_OA.autosizeMaximumOutdoorAirFlowRate()\n",
    "# controller_OA.setEconomizerControlType(\"DifferentialEnthalpy\")\n",
    "# # controller_OA.setMaximumFractionofOutdoorAirSchedule(options[\"ventilation_schedule\"])\n",
    "# controller_OA.setHeatRecoveryBypassControlType(\"BypassWhenOAFlowGreaterThanMinimum\")\n",
    "# # create outdoor air system\n",
    "# system_OA = OpenStudio::Model::AirLoopHVACOutdoorAirSystem.new(model, controller_OA)\n",
    "# # air_loop_comps << system_OA\n",
    "# # create ERV\n",
    "# heat_exchanger = OpenStudio::Model::HeatExchangerAirToAirSensibleAndLatent.new(model)\n",
    "# heat_exchanger.setAvailabilitySchedule(model.alwaysOnDiscreteSchedule())\n",
    "# sensible_eff = 0.75\n",
    "# latent_eff = 0.69\n",
    "# heat_exchanger.setSensibleEffectivenessat100CoolingAirFlow(sensible_eff)\n",
    "# heat_exchanger.setSensibleEffectivenessat100HeatingAirFlow(sensible_eff)\n",
    "# heat_exchanger.setSensibleEffectivenessat75CoolingAirFlow(sensible_eff)\n",
    "# heat_exchanger.setSensibleEffectivenessat75HeatingAirFlow(sensible_eff)\n",
    "# heat_exchanger.setLatentEffectivenessat100CoolingAirFlow(latent_eff)\n",
    "# heat_exchanger.setLatentEffectivenessat100HeatingAirFlow(latent_eff)\n",
    "# heat_exchanger.setLatentEffectivenessat75CoolingAirFlow(latent_eff)\n",
    "# heat_exchanger.setLatentEffectivenessat75HeatingAirFlow(latent_eff)\n",
    "# heat_exchanger.setFrostControlType(\"ExhaustOnly\")\n",
    "# heat_exchanger.setThresholdTemperature(-12.2)\n",
    "# heat_exchanger.setInitialDefrostTimeFraction(0.1670)\n",
    "# heat_exchanger.setRateofDefrostTimeFractionIncrease(0.0240)\n",
    "# heat_exchanger.setEconomizerLockout(false)\n",
    "# # create setpoint manager for airloop\n",
    "# setpoint_manager = OpenStudio::Model::SetpointManagerSingleZoneReheat.new(model)\n",
    "# setpoint_manager.setMinimumSupplyAirTemperature(10)\n",
    "# setpoint_manager.setMaximumSupplyAirTemperature(50)\n",
    "# # setpoint_manager.setControlZone(zone)"
   ]
  },
  {
   "cell_type": "code",
   "execution_count": null,
   "metadata": {},
   "outputs": [],
   "source": []
  },
  {
   "cell_type": "code",
   "execution_count": 83,
   "metadata": {},
   "outputs": [
    {
     "data": {
      "text/plain": [
       "true"
      ]
     },
     "execution_count": 83,
     "metadata": {},
     "output_type": "execute_result"
    }
   ],
   "source": [
    "# create DOAS loop\n",
    "airloop = OpenStudio::Model::addSystemType4(m0).to_AirLoopHVAC.get\n",
    "sizingsystem = airloop.sizingSystem\n",
    "sizingsystem.setTypeofLoadtoSizeOn(\"VentilationRequirement\") \n",
    "sizingsystem.setAllOutdoorAirinCooling(true) \n",
    "sizingsystem.setAllOutdoorAirinHeating(true) "
   ]
  },
  {
   "cell_type": "code",
   "execution_count": 77,
   "metadata": {},
   "outputs": [],
   "source": [
    "# # create fan\n",
    "# fan = OpenStudio::Model::FanVariableVolume.new(model, model.alwaysOnDiscreteSchedule())\n",
    "# fan.setFanEfficiency(0.6)\n",
    "# fan.setPressureRise(fan_pressure_rise) #Pa\n",
    "# fan.autosizeMaximumFlowRate()\n",
    "# fan.setFanPowerMinimumFlowFraction(0.6)\n",
    "# fan.setMotorEfficiency(0.85)\n",
    "# fan.setMotorInAirstreamFraction(1.0)"
   ]
  },
  {
   "cell_type": "code",
   "execution_count": null,
   "metadata": {},
   "outputs": [],
   "source": []
  },
  {
   "cell_type": "code",
   "execution_count": 84,
   "metadata": {
    "scrolled": true
   },
   "outputs": [
    {
     "name": "stdout",
     "output_type": "stream",
     "text": [
      "Thermal Zone: F6 Apt 1\n",
      "Thermal Zone: F5 Apt 2\n",
      "Thermal Zone: F6 Apt 2\n",
      "Thermal Zone: F3 Apt 4\n",
      "Thermal Zone: F8 Apt 4\n",
      "Thermal Zone: F8 Apt 1\n",
      "Thermal Zone: F5 Apt 4\n",
      "Thermal Zone: F7 Apt 4\n",
      "Thermal Zone: F2 Apt 2\n",
      "Thermal Zone: GF Apt 1\n",
      "Thermal Zone: F6 Apt 3\n",
      "Thermal Zone: F8 Apt 3\n",
      "Thermal Zone: F2 Apt 4\n",
      "Thermal Zone: F2 Apt 3\n",
      "Thermal Zone: F7 Apt 2\n",
      "Thermal Zone: F5 Apt 1\n",
      "Thermal Zone: F3 Apt 1\n",
      "Thermal Zone: F3 Apt 2\n",
      "Thermal Zone: F3 Apt 3\n",
      "Thermal Zone: F4 Apt 1\n",
      "Thermal Zone: F5 Apt 3\n",
      "Thermal Zone: F4 Apt 2\n",
      "Thermal Zone: F4 Apt 3\n",
      "Thermal Zone: F5 Apt 5\n",
      "Thermal Zone: F7 Apt 5\n",
      "Thermal Zone: F4 Apt 4\n",
      "Thermal Zone: F6 Apt 5\n",
      "Thermal Zone: F6 Apt 4\n",
      "Thermal Zone: F7 Apt 3\n",
      "Thermal Zone: F7 Apt 1\n",
      "Thermal Zone: F8 Apt 2\n",
      "Thermal Zone: F8 Apt 5\n",
      "Thermal Zone: F2 Apt\n"
     ]
    }
   ],
   "source": [
    "m0.getThermalZones.each do |tz|\n",
    "  if tz.name.to_s.include?\"Apt\" or tz.name.to_s.include?\"apt\"\n",
    "    puts tz.name\n",
    "    # create terminal\n",
    "    air_terminal = OpenStudio::Model::AirTerminalSingleDuctVAVNoReheat.new(m0, m0.alwaysOnDiscreteSchedule())\n",
    "    air_terminal.setControlForOutdoorAir(true)\n",
    "    air_terminal.setConstantMinimumAirFlowFraction(0)\n",
    "    # Add Apt. zones to DOAS loop\n",
    "    airloop.addBranchForZone(tz, air_terminal.to_StraightComponent)\n",
    "    \n",
    "    # turn off hp ventilation\n",
    "    hp = tz.equipment[0].to_ZoneHVACWaterToAirHeatPump.get\n",
    "    hp.setSupplyAirFlowRateWhenNoCoolingorHeatingisNeeded(0)\n",
    "    hp.setOutdoorAirFlowRateDuringCoolingOperation(0)\n",
    "    hp.setOutdoorAirFlowRateDuringHeatingOperation(0)\n",
    "    hp.setOutdoorAirFlowRateWhenNoCoolingorHeatingisNeeded(0)\n",
    "  end\n",
    "end\n",
    "nil"
   ]
  },
  {
   "cell_type": "code",
   "execution_count": null,
   "metadata": {},
   "outputs": [],
   "source": []
  },
  {
   "cell_type": "code",
   "execution_count": 85,
   "metadata": {},
   "outputs": [
    {
     "data": {
      "text/plain": [
       "true"
      ]
     },
     "execution_count": 85,
     "metadata": {},
     "output_type": "execute_result"
    }
   ],
   "source": [
    "# create DOAS loop for corridor\n",
    "airloop_2 = OpenStudio::Model::addSystemType4(m0).to_AirLoopHVAC.get\n",
    "sizingsystem_2 = airloop_2.sizingSystem\n",
    "sizingsystem_2.setTypeofLoadtoSizeOn(\"VentilationRequirement\") \n",
    "sizingsystem_2.setAllOutdoorAirinCooling(true) \n",
    "sizingsystem_2.setAllOutdoorAirinHeating(true) "
   ]
  },
  {
   "cell_type": "code",
   "execution_count": 86,
   "metadata": {},
   "outputs": [
    {
     "name": "stdout",
     "output_type": "stream",
     "text": [
      "Thermal Zone: F4 corridor 2\n",
      "Thermal Zone: F5 corridor\n",
      "Thermal Zone: F4 corridor 1\n",
      "Thermal Zone: GF corridor\n",
      "Thermal Zone: F2 corridor 2\n",
      "Thermal Zone: F6 corridor\n",
      "Thermal Zone: F3 corridor 2\n",
      "Thermal Zone: F3 corridor 1\n",
      "Thermal Zone: F7 corridor\n",
      "Thermal Zone: F8 corridor\n",
      "Thermal Zone: F2 corridor\n",
      "Thermal Zone: GF corridor 3\n"
     ]
    }
   ],
   "source": [
    "m0.getThermalZones.each do |tz|\n",
    "  if tz.name.to_s.include?\"corr\" or tz.name.to_s.include?\"Cor\"\n",
    "    puts tz.name\n",
    "    # create terminal\n",
    "    air_terminal = OpenStudio::Model::AirTerminalSingleDuctVAVNoReheat.new(m0, m0.alwaysOnDiscreteSchedule())\n",
    "    air_terminal.setControlForOutdoorAir(true)\n",
    "    air_terminal.setConstantMinimumAirFlowFraction(0)\n",
    "    # Add Apt. zones to DOAS loop\n",
    "    airloop_2.addBranchForZone(tz, air_terminal.to_StraightComponent)\n",
    "    \n",
    "    # turn off hp ventilation\n",
    "    hp = tz.equipment[0].to_ZoneHVACWaterToAirHeatPump.get\n",
    "    hp.setSupplyAirFlowRateWhenNoCoolingorHeatingisNeeded(0)\n",
    "    hp.setOutdoorAirFlowRateDuringCoolingOperation(0)\n",
    "    hp.setOutdoorAirFlowRateDuringHeatingOperation(0)\n",
    "    hp.setOutdoorAirFlowRateWhenNoCoolingorHeatingisNeeded(0)\n",
    "  end\n",
    "end\n",
    "nil"
   ]
  },
  {
   "cell_type": "code",
   "execution_count": 87,
   "metadata": {
    "scrolled": true
   },
   "outputs": [
    {
     "name": "stdout",
     "output_type": "stream",
     "text": [
      "Switching VAVNoReheat to first priority for Thermal Zone: F5 Apt 2\n",
      "Switching VAVNoReheat to first priority for Thermal Zone: F6 Apt 2\n",
      "Switching VAVNoReheat to first priority for Thermal Zone: F3 Apt 4\n",
      "Switching VAVNoReheat to first priority for Thermal Zone: F5 corridor\n",
      "Switching VAVNoReheat to first priority for Thermal Zone: F8 Apt 4\n",
      "Switching VAVNoReheat to first priority for Thermal Zone: F8 Apt 1\n",
      "Switching VAVNoReheat to first priority for Thermal Zone: F5 Apt 4\n",
      "Switching VAVNoReheat to first priority for Thermal Zone: F7 Apt 4\n",
      "Switching VAVNoReheat to first priority for Thermal Zone: F2 Apt 2\n",
      "Switching VAVNoReheat to first priority for Thermal Zone: F4 corridor 1\n",
      "Switching VAVNoReheat to first priority for Thermal Zone: GF Apt 1\n",
      "Switching VAVNoReheat to first priority for Thermal Zone: F6 Apt 3\n",
      "Switching VAVNoReheat to first priority for Thermal Zone: GF corridor\n",
      "Switching VAVNoReheat to first priority for Thermal Zone: F2 corridor 2\n",
      "Switching VAVNoReheat to first priority for Thermal Zone: F8 Apt 3\n",
      "Switching VAVNoReheat to first priority for Thermal Zone: F6 corridor\n",
      "Switching VAVNoReheat to first priority for Thermal Zone: F2 Apt 4\n",
      "Switching VAVNoReheat to first priority for Thermal Zone: F2 Apt 3\n",
      "Switching VAVNoReheat to first priority for Thermal Zone: F7 Apt 2\n",
      "Switching VAVNoReheat to first priority for Thermal Zone: F5 Apt 1\n",
      "Switching VAVNoReheat to first priority for Thermal Zone: F3 corridor 2\n",
      "Switching VAVNoReheat to first priority for Thermal Zone: F3 Apt 1\n",
      "Switching VAVNoReheat to first priority for Thermal Zone: F3 corridor 1\n",
      "Switching VAVNoReheat to first priority for Thermal Zone: F3 Apt 2\n",
      "Switching VAVNoReheat to first priority for Thermal Zone: F3 Apt 3\n",
      "Switching VAVNoReheat to first priority for Thermal Zone: F7 corridor\n",
      "Switching VAVNoReheat to first priority for Thermal Zone: F4 Apt 1\n",
      "Switching VAVNoReheat to first priority for Thermal Zone: F5 Apt 3\n",
      "Switching VAVNoReheat to first priority for Thermal Zone: F4 Apt 2\n",
      "Switching VAVNoReheat to first priority for Thermal Zone: F4 Apt 3\n",
      "Switching VAVNoReheat to first priority for Thermal Zone: F5 Apt 5\n",
      "Switching VAVNoReheat to first priority for Thermal Zone: F8 corridor\n",
      "Switching VAVNoReheat to first priority for Thermal Zone: F7 Apt 5\n",
      "Switching VAVNoReheat to first priority for Thermal Zone: F4 Apt 4\n",
      "Switching VAVNoReheat to first priority for Thermal Zone: F6 Apt 5\n",
      "Switching VAVNoReheat to first priority for Thermal Zone: F6 Apt 4\n",
      "Switching VAVNoReheat to first priority for Thermal Zone: F7 Apt 3\n",
      "Switching VAVNoReheat to first priority for Thermal Zone: F7 Apt 1\n",
      "Switching VAVNoReheat to first priority for Thermal Zone: F8 Apt 2\n",
      "Switching VAVNoReheat to first priority for Thermal Zone: F8 Apt 5\n",
      "Switching VAVNoReheat to first priority for Thermal Zone: F2 Apt\n",
      "Switching VAVNoReheat to first priority for Thermal Zone: F2 corridor\n",
      "Switching VAVNoReheat to first priority for Thermal Zone: GF corridor 3\n"
     ]
    }
   ],
   "source": [
    "# change hvac priority:   1. outdoor air system 2. heat pump \n",
    "m0.getThermalZones.each do |z|\n",
    "  z.equipment.each do |e|\n",
    "    if e.to_AirTerminalSingleDuctVAVNoReheat.is_initialized\n",
    "      puts \"Switching VAVNoReheat to first priority for #{z.name.to_s}\"\n",
    "      z.setHeatingPriority(e, 1)\n",
    "      z.setCoolingPriority(e, 1)\n",
    "    end\n",
    "  end\n",
    "end\n",
    "nil"
   ]
  },
  {
   "cell_type": "code",
   "execution_count": 88,
   "metadata": {},
   "outputs": [
    {
     "data": {
      "text/plain": [
       "true"
      ]
     },
     "execution_count": 88,
     "metadata": {},
     "output_type": "execute_result"
    }
   ],
   "source": [
    "m0.save('Beach Green Dunes III ECM1.2 DOAS.osm')"
   ]
  },
  {
   "cell_type": "markdown",
   "metadata": {},
   "source": [
    "# ECM1.2 ERV\n",
    "\n",
    "### #Plate\n",
    "### #Supply Air Outlet Temprature Control: yes"
   ]
  },
  {
   "cell_type": "code",
   "execution_count": 3,
   "metadata": {},
   "outputs": [
    {
     "data": {
      "text/plain": [
       "#<OpenStudio::Model::Model:0x00000006ef00a0 @__swigtype__=\"_p_openstudio__model__Model\">"
      ]
     },
     "execution_count": 3,
     "metadata": {},
     "output_type": "execute_result"
    }
   ],
   "source": [
    "m0 = osload('Beach Green Dunes III ECM1.1.osm')"
   ]
  },
  {
   "cell_type": "code",
   "execution_count": 4,
   "metadata": {},
   "outputs": [
    {
     "name": "stdout",
     "output_type": "stream",
     "text": [
      "DOAS\n"
     ]
    }
   ],
   "source": [
    "m0.getAirLoopHVACs.each do |airloop|\n",
    "  puts airloop.name\n",
    "  oa_node = airloop.airLoopHVACOutdoorAirSystem.get.outboardOANode.get\n",
    "  hx = OpenStudio::Model::HeatExchangerAirToAirSensibleAndLatent.new(m0)\n",
    "  hx.addToNode(oa_node)\n",
    "end\n",
    "nil\n",
    "  \n"
   ]
  },
  {
   "cell_type": "code",
   "execution_count": 5,
   "metadata": {},
   "outputs": [
    {
     "data": {
      "text/plain": [
       "true"
      ]
     },
     "execution_count": 5,
     "metadata": {},
     "output_type": "execute_result"
    }
   ],
   "source": [
    "m0.save('Beach Green Dunes III ECM1.2.osm',true)"
   ]
  },
  {
   "cell_type": "markdown",
   "metadata": {},
   "source": [
    "# ECM 1.2 Economizer (not saving)"
   ]
  },
  {
   "cell_type": "code",
   "execution_count": 6,
   "metadata": {
    "scrolled": true
   },
   "outputs": [
    {
     "name": "stdout",
     "output_type": "stream",
     "text": [
      "NoEconomizer\n",
      "FixedEnthalpy\n"
     ]
    }
   ],
   "source": [
    "# m0.getAirLoopHVACs.each do |air_loop|\n",
    "#   air_loop.supplyComponents.each do |supply_component|\n",
    "#     hVACComponent = supply_component.to_AirLoopHVACOutdoorAirSystem\n",
    "#     if hVACComponent.is_initialized\n",
    "#       hVACComponent = hVACComponent.get\n",
    "#       controller_oa = hVACComponent.getControllerOutdoorAir\n",
    "#       starting_econo_control_type = controller_oa.getEconomizerControlType\n",
    "#       puts starting_econo_control_type\n",
    "#       controller_oa.setEconomizerControlType('FixedEnthalpy')\n",
    "#       final_econo_control_type = controller_oa.getEconomizerControlType\n",
    "#       puts final_econo_control_type\n",
    "#     end\n",
    "#   end\n",
    "# end\n",
    "# nil"
   ]
  },
  {
   "cell_type": "code",
   "execution_count": 7,
   "metadata": {},
   "outputs": [
    {
     "data": {
      "text/plain": [
       "true"
      ]
     },
     "execution_count": 7,
     "metadata": {},
     "output_type": "execute_result"
    }
   ],
   "source": [
    "# m0.save('Beach Green Dunes III ECM1.4.osm', true)"
   ]
  },
  {
   "cell_type": "markdown",
   "metadata": {},
   "source": [
    "# ECM 1.3 DCV (enthalpy) "
   ]
  },
  {
   "cell_type": "code",
   "execution_count": 10,
   "metadata": {},
   "outputs": [
    {
     "data": {
      "text/plain": [
       "#<OpenStudio::Model::Model:0x000000064ec4c8 @__swigtype__=\"_p_openstudio__model__Model\">"
      ]
     },
     "execution_count": 10,
     "metadata": {},
     "output_type": "execute_result"
    }
   ],
   "source": [
    "m0 = osload('Beach Green Dunes III ECM1.3.osm')"
   ]
  },
  {
   "cell_type": "code",
   "execution_count": 7,
   "metadata": {},
   "outputs": [],
   "source": [
    "# replace constant fan with variable speed"
   ]
  },
  {
   "cell_type": "code",
   "execution_count": null,
   "metadata": {},
   "outputs": [],
   "source": []
  },
  {
   "cell_type": "code",
   "execution_count": 11,
   "metadata": {
    "scrolled": true
   },
   "outputs": [
    {
     "name": "stdout",
     "output_type": "stream",
     "text": [
      "Air Terminal Single Duct VAV No Reheat 1\n",
      "VAV No Rht\n",
      "VAV No Rht 4\n",
      "VAV No Rht 1\n",
      "VAV No Rht 25\n",
      "VAV No Rht 2\n",
      "VAV No Rht 6\n",
      "VAV No Rht 32\n",
      "VAV No Rht 9\n",
      "VAV No Rht 3\n",
      "VAV No Rht 14\n",
      "VAV No Rht 8\n",
      "VAV No Rht 7\n",
      "VAV No Rht 19\n",
      "VAV No Rht 5\n",
      "VAV No Rht 10\n",
      "VAV No Rht 11\n",
      "VAV No Rht 12\n",
      "VAV No Rht 13\n",
      "VAV No Rht 15\n",
      "VAV No Rht 16\n",
      "VAV No Rht 17\n",
      "VAV No Rht 18\n",
      "VAV No Rht 20\n",
      "VAV No Rht 30\n",
      "VAV No Rht 21\n",
      "VAV No Rht 22\n",
      "VAV No Rht 23\n",
      "VAV No Rht 24\n",
      "VAV No Rht 26\n",
      "VAV No Rht 27\n",
      "VAV No Rht 28\n",
      "VAV No Rht 29\n",
      "VAV No Rht 31\n"
     ]
    }
   ],
   "source": [
    "m0.getAirTerminalSingleDuctVAVNoReheats.each do |air_terminal|\n",
    "  puts air_terminal.name\n",
    "  air_terminal.setControlForOutdoorAir(true)\n",
    "end\n",
    "nil"
   ]
  },
  {
   "cell_type": "code",
   "execution_count": 12,
   "metadata": {},
   "outputs": [],
   "source": [
    "m0.getAirLoopHVACs.each do |air_loop|\n",
    "  air_loop.supplyComponents.each do |supply_component|\n",
    "    hVACComponent = supply_component.to_AirLoopHVACOutdoorAirSystem\n",
    "    if hVACComponent.is_initialized\n",
    "      hVACComponent = hVACComponent.get\n",
    "      controller_oa = hVACComponent.getControllerOutdoorAir\n",
    "      controller_mv = controller_oa.controllerMechanicalVentilation    \n",
    "      controller_mv.setDemandControlledVentilation(true)\n",
    "    end\n",
    "  end\n",
    "end\n",
    "nil"
   ]
  },
  {
   "cell_type": "code",
   "execution_count": 13,
   "metadata": {},
   "outputs": [
    {
     "data": {
      "text/plain": [
       "true"
      ]
     },
     "execution_count": 13,
     "metadata": {},
     "output_type": "execute_result"
    }
   ],
   "source": [
    "m0.save('Beach Green Dunes III ECM1.3.osm', true)"
   ]
  },
  {
   "cell_type": "markdown",
   "metadata": {},
   "source": [
    "# ECM 1.3 Thermal Comfort Ranges"
   ]
  },
  {
   "cell_type": "code",
   "execution_count": 14,
   "metadata": {},
   "outputs": [
    {
     "data": {
      "text/plain": [
       "true"
      ]
     },
     "execution_count": 14,
     "metadata": {},
     "output_type": "execute_result"
    }
   ],
   "source": [
    "htg_sch=m0.getScheduleRulesetByName('MidriseApartment Apartment HtgSetp').get\n",
    "clg_sch=m0.getScheduleRulesetByName('MidriseApartment Apartment ClgSetp').get\n",
    "\n",
    "htg_daysch = htg_sch.defaultDaySchedule\n",
    "clg_daysch = clg_sch.defaultDaySchedule\n",
    "\n",
    "htg_daysch.addValue(OpenStudio::Time.new(0,6,0,0),OpenStudio.convert(68, \"F\", \"C\").get)\n",
    "htg_daysch.addValue(OpenStudio::Time.new(0,23,0,0),OpenStudio.convert(70, \"F\", \"C\").get)\n",
    "htg_daysch.addValue(OpenStudio::Time.new(0,24,0,0),OpenStudio.convert(68, \"F\", \"C\").get)\n",
    "\n",
    "clg_daysch.addValue(OpenStudio::Time.new(0,9,0,0),OpenStudio.convert(80, \"F\", \"C\").get)\n",
    "clg_daysch.addValue(OpenStudio::Time.new(0,15,0,0),OpenStudio.convert(82, \"F\", \"C\").get)\n",
    "clg_daysch.addValue(OpenStudio::Time.new(0,24,0,0),OpenStudio.convert(80, \"F\", \"C\").get)"
   ]
  },
  {
   "cell_type": "code",
   "execution_count": 15,
   "metadata": {},
   "outputs": [
    {
     "data": {
      "text/plain": [
       "true"
      ]
     },
     "execution_count": 15,
     "metadata": {},
     "output_type": "execute_result"
    }
   ],
   "source": [
    "m0.save('Beach Green Dunes III ECM1.4.osm', true)"
   ]
  },
  {
   "cell_type": "markdown",
   "metadata": {},
   "source": [
    "# ECM 1.4 Add smart control"
   ]
  },
  {
   "cell_type": "code",
   "execution_count": 16,
   "metadata": {},
   "outputs": [
    {
     "data": {
      "text/plain": [
       "true"
      ]
     },
     "execution_count": 16,
     "metadata": {},
     "output_type": "execute_result"
    }
   ],
   "source": [
    "htg_sch=m0.getScheduleRulesetByName('MidriseApartment Apartment HtgSetp').get\n",
    "clg_sch=m0.getScheduleRulesetByName('MidriseApartment Apartment ClgSetp').get\n",
    "\n",
    "htg_daysch = htg_sch.defaultDaySchedule\n",
    "clg_daysch = clg_sch.defaultDaySchedule\n",
    "\n",
    "htg_daysch.addValue(OpenStudio::Time.new(0,6,0,0),OpenStudio.convert(68, \"F\", \"C\").get)\n",
    "htg_daysch.addValue(OpenStudio::Time.new(0,8,0,0),OpenStudio.convert(70, \"F\", \"C\").get)\n",
    "htg_daysch.addValue(OpenStudio::Time.new(0,12,0,0),OpenStudio.convert(60, \"F\", \"C\").get)\n",
    "htg_daysch.addValue(OpenStudio::Time.new(0,13,0,0),OpenStudio.convert(65, \"F\", \"C\").get)\n",
    "htg_daysch.addValue(OpenStudio::Time.new(0,23,0,0),OpenStudio.convert(70, \"F\", \"C\").get)\n",
    "htg_daysch.addValue(OpenStudio::Time.new(0,24,0,0),OpenStudio.convert(68, \"F\", \"C\").get)\n",
    "\n",
    "\n",
    "clg_daysch.addValue(OpenStudio::Time.new(0,8,0,0),OpenStudio.convert(80, \"F\", \"C\").get)\n",
    "clg_daysch.addValue(OpenStudio::Time.new(0,12,0,0),OpenStudio.convert(90, \"F\", \"C\").get)\n",
    "clg_daysch.addValue(OpenStudio::Time.new(0,13,0,0),OpenStudio.convert(85, \"F\", \"C\").get)\n",
    "clg_daysch.addValue(OpenStudio::Time.new(0,24,0,0),OpenStudio.convert(80, \"F\", \"C\").get)"
   ]
  },
  {
   "cell_type": "code",
   "execution_count": 17,
   "metadata": {},
   "outputs": [
    {
     "data": {
      "text/plain": [
       "true"
      ]
     },
     "execution_count": 17,
     "metadata": {},
     "output_type": "execute_result"
    }
   ],
   "source": [
    "m0.save('Beach Green Dunes III ECM1.5.osm', true)"
   ]
  },
  {
   "cell_type": "markdown",
   "metadata": {},
   "source": [
    "# ECM1.5 Fan with EC motors"
   ]
  },
  {
   "cell_type": "code",
   "execution_count": 18,
   "metadata": {},
   "outputs": [
    {
     "name": "stdout",
     "output_type": "stream",
     "text": [
      "Var Spd Fan\n"
     ]
    }
   ],
   "source": [
    "m0.getFanVariableVolumes.each do |fan|\n",
    "  puts fan.name\n",
    "  \n",
    "  m = fan.motorEfficiency\n",
    "  e = fan.fanTotalEfficiency\n",
    "  \n",
    "  fan.setMotorEfficiency(0.93)\n",
    "#   fan.setFanTotalEfficiency(e*0.93/m)\n",
    "  fan.setFanTotalEfficiency(0.9)  # 0.85 --> 0.9\n",
    "end\n",
    "nil\n",
    "  \n",
    "  "
   ]
  },
  {
   "cell_type": "code",
   "execution_count": 19,
   "metadata": {},
   "outputs": [
    {
     "data": {
      "text/plain": [
       "true"
      ]
     },
     "execution_count": 19,
     "metadata": {},
     "output_type": "execute_result"
    }
   ],
   "source": [
    "m0.save('Beach Green Dunes III ECM1.6.osm', true)"
   ]
  },
  {
   "cell_type": "markdown",
   "metadata": {},
   "source": [
    "# ECM 2.1 AGW"
   ]
  },
  {
   "cell_type": "code",
   "execution_count": null,
   "metadata": {},
   "outputs": [],
   "source": [
    "# # BGW\n",
    "# m0.getSurfaces.each do |s|\n",
    "#   if s.construction.get.name.to_s.include?\"Typical Insulated Basement Mass Wall\"\n",
    "#     puts s.name\n",
    "#     s.setConstruction(m0.getConstructionByName('Proposed BGW').get)\n",
    "#   end\n",
    "#   end\n",
    "# nil"
   ]
  },
  {
   "cell_type": "code",
   "execution_count": 20,
   "metadata": {
    "scrolled": true
   },
   "outputs": [
    {
     "name": "stdout",
     "output_type": "stream",
     "text": [
      "Surface 841\n",
      "Surface 242\n",
      "Surface 32\n",
      "Surface 615\n",
      "Surface 31\n",
      "Surface 432\n",
      "Surface 352\n",
      "Surface 249\n",
      "Surface 730\n",
      "Surface 205\n",
      "Surface 230\n",
      "Surface 822\n",
      "Surface 330\n",
      "Surface 194\n",
      "Surface 697\n",
      "Surface 200\n",
      "Surface 198\n",
      "Surface 860\n",
      "Surface 425\n",
      "Surface 113\n",
      "Surface 153\n",
      "Surface 107\n",
      "Surface 156\n",
      "Surface 589\n",
      "Surface 146\n",
      "Surface 98\n",
      "Surface 180\n",
      "Surface 178\n",
      "Surface 821\n",
      "Surface 152\n",
      "Surface 179\n",
      "Surface 91\n",
      "Surface 181\n",
      "Surface 855\n",
      "Surface 193\n",
      "Surface 474\n",
      "Surface 25\n",
      "Surface 698\n",
      "Surface 199\n",
      "Surface 95\n",
      "Surface 827\n",
      "Surface 211\n",
      "Surface 212\n",
      "Surface 41\n",
      "Surface 218\n",
      "Surface 857\n",
      "Surface 636\n",
      "Surface 342\n",
      "Surface 233\n",
      "Surface 165\n",
      "Surface 315\n",
      "Surface 236\n",
      "Surface 237\n",
      "Surface 628\n",
      "Surface 241\n",
      "Surface 243\n",
      "Surface 244\n",
      "Surface 423\n",
      "Surface 254\n",
      "Surface 94\n",
      "Surface 257\n",
      "Surface 258\n",
      "Surface 578\n",
      "Surface 532\n",
      "Surface 264\n",
      "Surface 265\n",
      "Surface 839\n",
      "Surface 331\n",
      "Surface 270\n",
      "Surface 350\n",
      "Surface 271\n",
      "Surface 288\n",
      "Surface 394\n",
      "Surface 289\n",
      "Surface 484\n",
      "Surface 290\n",
      "Surface 313\n",
      "Surface 306\n",
      "Surface 531\n",
      "Surface 305\n",
      "Surface 590\n",
      "Surface 307\n",
      "Surface 309\n",
      "Surface 850\n",
      "Surface 314\n",
      "Surface 317\n",
      "Surface 370\n",
      "Surface 322\n",
      "Surface 323\n",
      "Surface 377\n",
      "Surface 509\n",
      "Surface 324\n",
      "Surface 325\n",
      "Surface 843\n",
      "Surface 401\n",
      "Surface 42\n",
      "Surface 332\n",
      "Surface 544\n",
      "Surface 351\n",
      "Surface 378\n",
      "Surface 563\n",
      "Surface 388\n",
      "Surface 389\n",
      "Surface 825\n",
      "Surface 833\n",
      "Surface 830\n",
      "Surface 395\n",
      "Surface 434\n",
      "Surface 734\n",
      "Surface 431\n",
      "Surface 831\n",
      "Surface 433\n",
      "Surface 435\n",
      "Surface 440\n",
      "Surface 441\n",
      "Surface 442\n",
      "Surface 852\n",
      "Surface 447\n",
      "Surface 448\n",
      "Surface 565\n",
      "Surface 823\n",
      "Surface 343\n",
      "Surface 467\n",
      "Surface 468\n",
      "Surface 739\n",
      "Surface 805\n",
      "Surface 418\n",
      "Surface 204\n",
      "Surface 420\n",
      "Surface 421\n",
      "Surface 473\n",
      "Surface 485\n",
      "Surface 486\n",
      "Surface 489\n",
      "Surface 491\n",
      "Surface 492\n",
      "Surface 510\n",
      "Surface 702\n",
      "Surface 511\n",
      "Surface 613\n",
      "Surface 512\n",
      "Surface 513\n",
      "Surface 840\n",
      "Surface 519\n",
      "Surface 520\n",
      "Surface 848\n",
      "Surface 207\n",
      "Surface 525\n",
      "Surface 526\n",
      "Surface 5\n",
      "Surface 530\n",
      "Surface 541\n",
      "Surface 496\n",
      "Surface 542\n",
      "Surface 543\n",
      "Surface 545\n",
      "Surface 559\n",
      "Surface 560\n",
      "Surface 12\n",
      "Surface 566\n",
      "Surface 20\n",
      "Surface 577\n",
      "Surface 811\n",
      "Surface 588\n",
      "Surface 593\n",
      "Surface 616\n",
      "Surface 595\n",
      "Surface 743\n",
      "Surface 596\n",
      "Surface 614\n",
      "Surface 617\n",
      "Surface 623\n",
      "Surface 624\n",
      "Surface 399\n",
      "Surface 166\n",
      "Surface 630\n",
      "Surface 634\n",
      "Surface 635\n",
      "Surface 452\n",
      "Surface 550\n",
      "Surface 552\n",
      "Surface 729\n",
      "Surface 687\n",
      "Surface 706\n",
      "Surface 711\n",
      "Surface 829\n",
      "Surface 715\n",
      "Surface 732\n",
      "Surface 737\n",
      "Surface 740\n",
      "Surface 745\n",
      "Surface 849\n",
      "Surface 3\n",
      "Surface 4\n",
      "Surface 6\n",
      "Surface 37\n",
      "Surface 40\n",
      "Surface 206\n",
      "Surface 816\n",
      "Surface 163\n",
      "Surface 167\n",
      "Surface 16\n",
      "Surface 856\n",
      "Surface 117\n",
      "Surface 835\n",
      "Surface 93\n",
      "Surface 96\n",
      "Surface 70\n",
      "Surface 804\n",
      "Surface 798\n",
      "Surface 802\n",
      "Surface 847\n",
      "Surface 812\n",
      "Surface 815\n",
      "Surface 844\n",
      "Surface 824\n",
      "Surface 826\n",
      "Surface 828\n",
      "Surface 832\n",
      "Surface 834\n",
      "Surface 836\n",
      "Surface 837\n",
      "Surface 838\n",
      "Surface 842\n",
      "Surface 845\n",
      "Surface 846\n",
      "Surface 851\n",
      "Surface 853\n",
      "Surface 854\n",
      "Surface 858\n",
      "Surface 859\n",
      "Surface 861\n",
      "Surface 862\n"
     ]
    }
   ],
   "source": [
    "# ABG\n",
    "m0.getSurfaces.each do |s|\n",
    "  if s.construction.get.name.to_s.include?\"Typical Insulated Steel Framed Exterior Wall R-15.63\"\n",
    "    puts s.name\n",
    "    s.setConstruction(m0.getConstructionByName('Proposed Exterior Wall').get)\n",
    "  end\n",
    "  end\n",
    "nil"
   ]
  },
  {
   "cell_type": "code",
   "execution_count": 21,
   "metadata": {},
   "outputs": [
    {
     "data": {
      "text/plain": [
       "true"
      ]
     },
     "execution_count": 21,
     "metadata": {},
     "output_type": "execute_result"
    }
   ],
   "source": [
    "m0.save('Beach Green Dunes III ECM2.1.osm', true)"
   ]
  },
  {
   "cell_type": "markdown",
   "metadata": {},
   "source": [
    "# ECM 2.2 High performance roof"
   ]
  },
  {
   "cell_type": "code",
   "execution_count": 22,
   "metadata": {
    "scrolled": false
   },
   "outputs": [
    {
     "name": "stdout",
     "output_type": "stream",
     "text": [
      "Surface 625\n",
      "Surface 195\n",
      "Surface 776\n",
      "Surface 722\n",
      "Surface 38\n",
      "Surface 8\n",
      "Surface 591\n",
      "Surface 579\n",
      "Surface 597\n",
      "Surface 619\n",
      "Surface 220\n",
      "Surface 631\n",
      "Surface 716\n",
      "Surface 719\n",
      "Surface 725\n",
      "Surface 726\n",
      "Surface 92\n",
      "Surface 122\n"
     ]
    }
   ],
   "source": [
    "# Roof\n",
    "m0.getSurfaces.each do |s|\n",
    "  if s.construction.get.name.to_s.include?\"Typical IEAD Roof R-31.25\"\n",
    "    puts s.name\n",
    "    s.setConstruction(m0.getConstructionByName('Proposed Roof').get)\n",
    "  end\n",
    "  end\n",
    "nil"
   ]
  },
  {
   "cell_type": "code",
   "execution_count": 23,
   "metadata": {},
   "outputs": [
    {
     "data": {
      "text/plain": [
       "true"
      ]
     },
     "execution_count": 23,
     "metadata": {},
     "output_type": "execute_result"
    }
   ],
   "source": [
    "m0.save('Beach Green Dunes III ECM2.2.osm', true)"
   ]
  },
  {
   "cell_type": "code",
   "execution_count": 24,
   "metadata": {},
   "outputs": [],
   "source": [
    "# I changed the roof material"
   ]
  },
  {
   "cell_type": "markdown",
   "metadata": {},
   "source": [
    "# ECM 2.3 Window"
   ]
  },
  {
   "cell_type": "code",
   "execution_count": 25,
   "metadata": {
    "scrolled": true
   },
   "outputs": [
    {
     "name": "stdout",
     "output_type": "stream",
     "text": [
      "Sub Surface 137\n",
      "ASHRAE 189.1-2009 ExtWindow ClimateZone 3\n",
      "Proposed Window\n",
      "Sub Surface 79\n",
      "ASHRAE 189.1-2009 ExtWindow ClimateZone 3\n",
      "Proposed Window\n",
      "Sub Surface 13\n",
      "ASHRAE 189.1-2009 ExtWindow ClimateZone 3\n",
      "Proposed Window\n",
      "Sub Surface 70\n",
      "ASHRAE 189.1-2009 ExtWindow ClimateZone 3\n",
      "Proposed Window\n",
      "Sub Surface 63\n",
      "ASHRAE 189.1-2009 ExtWindow ClimateZone 3\n",
      "Proposed Window\n",
      "Sub Surface 4\n",
      "ASHRAE 189.1-2009 ExtWindow ClimateZone 3\n",
      "Proposed Window\n",
      "Sub Surface 78\n",
      "ASHRAE 189.1-2009 ExtWindow ClimateZone 3\n",
      "Proposed Window\n",
      "Sub Surface 8\n",
      "ASHRAE 189.1-2009 ExtWindow ClimateZone 3\n",
      "Proposed Window\n",
      "Sub Surface 68\n",
      "ASHRAE 189.1-2009 ExtWindow ClimateZone 3\n",
      "Proposed Window\n",
      "Sub Surface 10\n",
      "ASHRAE 189.1-2009 ExtWindow ClimateZone 3\n",
      "Proposed Window\n",
      "Sub Surface 14\n",
      "ASHRAE 189.1-2009 ExtWindow ClimateZone 3\n",
      "Proposed Window\n",
      "Sub Surface 26\n",
      "ASHRAE 189.1-2009 ExtWindow ClimateZone 3\n",
      "Proposed Window\n",
      "Sub Surface 110\n",
      "ASHRAE 189.1-2009 ExtWindow ClimateZone 3\n",
      "Proposed Window\n",
      "Sub Surface 11\n",
      "ASHRAE 189.1-2009 ExtWindow ClimateZone 3\n",
      "Proposed Window\n",
      "Sub Surface 17\n",
      "ASHRAE 189.1-2009 ExtWindow ClimateZone 3\n",
      "Proposed Window\n",
      "Sub Surface 15\n",
      "ASHRAE 189.1-2009 ExtWindow ClimateZone 3\n",
      "Proposed Window\n",
      "Sub Surface 18\n",
      "ASHRAE 189.1-2009 ExtWindow ClimateZone 3\n",
      "Proposed Window\n",
      "Sub Surface 19\n",
      "ASHRAE 189.1-2009 ExtWindow ClimateZone 3\n",
      "Proposed Window\n",
      "Sub Surface 75\n",
      "ASHRAE 189.1-2009 ExtWindow ClimateZone 3\n",
      "Proposed Window\n",
      "Sub Surface 65\n",
      "ASHRAE 189.1-2009 ExtWindow ClimateZone 3\n",
      "Proposed Window\n",
      "Sub Surface 20\n",
      "ASHRAE 189.1-2009 ExtWindow ClimateZone 3\n",
      "Proposed Window\n",
      "Sub Surface 54\n",
      "ASHRAE 189.1-2009 ExtWindow ClimateZone 3\n",
      "Proposed Window\n",
      "Sub Surface 22\n",
      "ASHRAE 189.1-2009 ExtWindow ClimateZone 3\n",
      "Proposed Window\n",
      "Sub Surface 129\n",
      "ASHRAE 189.1-2009 ExtWindow ClimateZone 3\n",
      "Proposed Window\n",
      "Sub Surface 51\n",
      "ASHRAE 189.1-2009 ExtWindow ClimateZone 3\n",
      "Proposed Window\n",
      "Sub Surface 23\n",
      "ASHRAE 189.1-2009 ExtWindow ClimateZone 3\n",
      "Proposed Window\n",
      "Sub Surface 24\n",
      "ASHRAE 189.1-2009 ExtWindow ClimateZone 3\n",
      "Proposed Window\n",
      "Sub Surface 33\n",
      "ASHRAE 189.1-2009 ExtWindow ClimateZone 3\n",
      "Proposed Window\n",
      "Sub Surface 95\n",
      "ASHRAE 189.1-2009 ExtWindow ClimateZone 3\n",
      "Proposed Window\n",
      "Sub Surface 27\n",
      "ASHRAE 189.1-2009 ExtWindow ClimateZone 3\n",
      "Proposed Window\n",
      "Sub Surface 86\n",
      "ASHRAE 189.1-2009 ExtWindow ClimateZone 3\n",
      "Proposed Window\n",
      "Sub Surface 30\n",
      "ASHRAE 189.1-2009 ExtWindow ClimateZone 3\n",
      "Proposed Window\n",
      "Sub Surface 31\n",
      "ASHRAE 189.1-2009 ExtWindow ClimateZone 3\n",
      "Proposed Window\n",
      "Sub Surface 32\n",
      "ASHRAE 189.1-2009 ExtWindow ClimateZone 3\n",
      "Proposed Window\n",
      "Sub Surface 34\n",
      "ASHRAE 189.1-2009 ExtWindow ClimateZone 3\n",
      "Proposed Window\n",
      "Sub Surface 61\n",
      "ASHRAE 189.1-2009 ExtWindow ClimateZone 3\n",
      "Proposed Window\n",
      "Sub Surface 35\n",
      "ASHRAE 189.1-2009 ExtWindow ClimateZone 3\n",
      "Proposed Window\n",
      "Sub Surface 76\n",
      "ASHRAE 189.1-2009 ExtWindow ClimateZone 3\n",
      "Proposed Window\n",
      "Sub Surface 37\n",
      "ASHRAE 189.1-2009 ExtWindow ClimateZone 3\n",
      "Proposed Window\n",
      "Sub Surface 45\n",
      "ASHRAE 189.1-2009 ExtWindow ClimateZone 3\n",
      "Proposed Window\n",
      "Sub Surface 44\n",
      "ASHRAE 189.1-2009 ExtWindow ClimateZone 3\n",
      "Proposed Window\n",
      "Sub Surface 40\n",
      "ASHRAE 189.1-2009 ExtWindow ClimateZone 3\n",
      "Proposed Window\n",
      "Sub Surface 42\n",
      "ASHRAE 189.1-2009 ExtWindow ClimateZone 3\n",
      "Proposed Window\n",
      "Sub Surface 89\n",
      "ASHRAE 189.1-2009 ExtWindow ClimateZone 3\n",
      "Proposed Window\n",
      "Sub Surface 43\n",
      "ASHRAE 189.1-2009 ExtWindow ClimateZone 3\n",
      "Proposed Window\n",
      "Sub Surface 80\n",
      "ASHRAE 189.1-2009 ExtWindow ClimateZone 3\n",
      "Proposed Window\n",
      "Sub Surface 77\n",
      "ASHRAE 189.1-2009 ExtWindow ClimateZone 3\n",
      "Proposed Window\n",
      "Sub Surface 46\n",
      "ASHRAE 189.1-2009 ExtWindow ClimateZone 3\n",
      "Proposed Window\n",
      "Sub Surface 85\n",
      "ASHRAE 189.1-2009 ExtWindow ClimateZone 3\n",
      "Proposed Window\n",
      "Sub Surface 50\n",
      "ASHRAE 189.1-2009 ExtWindow ClimateZone 3\n",
      "Proposed Window\n",
      "Sub Surface 52\n",
      "ASHRAE 189.1-2009 ExtWindow ClimateZone 3\n",
      "Proposed Window\n",
      "Sub Surface 53\n",
      "ASHRAE 189.1-2009 ExtWindow ClimateZone 3\n",
      "Proposed Window\n",
      "Sub Surface 81\n",
      "ASHRAE 189.1-2009 ExtWindow ClimateZone 3\n",
      "Proposed Window\n",
      "Sub Surface 74\n",
      "ASHRAE 189.1-2009 ExtWindow ClimateZone 3\n",
      "Proposed Window\n",
      "Sub Surface 56\n",
      "ASHRAE 189.1-2009 ExtWindow ClimateZone 3\n",
      "Proposed Window\n",
      "Sub Surface 57\n",
      "ASHRAE 189.1-2009 ExtWindow ClimateZone 3\n",
      "Proposed Window\n",
      "Sub Surface 59\n",
      "ASHRAE 189.1-2009 ExtWindow ClimateZone 3\n",
      "Proposed Window\n",
      "Sub Surface 96\n",
      "ASHRAE 189.1-2009 ExtWindow ClimateZone 3\n",
      "Proposed Window\n",
      "Sub Surface 60\n",
      "ASHRAE 189.1-2009 ExtWindow ClimateZone 3\n",
      "Proposed Window\n",
      "Sub Surface 62\n",
      "ASHRAE 189.1-2009 ExtWindow ClimateZone 3\n",
      "Proposed Window\n",
      "Sub Surface 66\n",
      "ASHRAE 189.1-2009 ExtWindow ClimateZone 3\n",
      "Proposed Window\n",
      "Sub Surface 67\n",
      "ASHRAE 189.1-2009 ExtWindow ClimateZone 3\n",
      "Proposed Window\n",
      "Sub Surface 69\n",
      "ASHRAE 189.1-2009 ExtWindow ClimateZone 3\n",
      "Proposed Window\n",
      "Sub Surface 71\n",
      "ASHRAE 189.1-2009 ExtWindow ClimateZone 3\n",
      "Proposed Window\n",
      "Sub Surface 72\n",
      "ASHRAE 189.1-2009 ExtWindow ClimateZone 3\n",
      "Proposed Window\n",
      "Sub Surface 109\n",
      "ASHRAE 189.1-2009 ExtWindow ClimateZone 3\n",
      "Proposed Window\n",
      "Sub Surface 73\n",
      "ASHRAE 189.1-2009 ExtWindow ClimateZone 3\n",
      "Proposed Window\n",
      "Sub Surface 84\n",
      "ASHRAE 189.1-2009 ExtWindow ClimateZone 3\n",
      "Proposed Window\n",
      "Sub Surface 87\n",
      "ASHRAE 189.1-2009 ExtWindow ClimateZone 3\n",
      "Proposed Window\n",
      "Sub Surface 138\n",
      "ASHRAE 189.1-2009 ExtWindow ClimateZone 3\n",
      "Proposed Window\n",
      "Sub Surface 88\n",
      "ASHRAE 189.1-2009 ExtWindow ClimateZone 3\n",
      "Proposed Window\n",
      "Sub Surface 90\n",
      "ASHRAE 189.1-2009 ExtWindow ClimateZone 3\n",
      "Proposed Window\n",
      "Sub Surface 91\n",
      "ASHRAE 189.1-2009 ExtWindow ClimateZone 3\n",
      "Proposed Window\n",
      "Sub Surface 92\n",
      "ASHRAE 189.1-2009 ExtWindow ClimateZone 3\n",
      "Proposed Window\n",
      "Sub Surface 93\n",
      "ASHRAE 189.1-2009 ExtWindow ClimateZone 3\n",
      "Proposed Window\n",
      "Sub Surface 94\n",
      "ASHRAE 189.1-2009 ExtWindow ClimateZone 3\n",
      "Proposed Window\n",
      "Sub Surface 99\n",
      "ASHRAE 189.1-2009 ExtWindow ClimateZone 3\n",
      "Proposed Window\n",
      "Sub Surface 100\n",
      "ASHRAE 189.1-2009 ExtWindow ClimateZone 3\n",
      "Proposed Window\n",
      "Sub Surface 101\n",
      "ASHRAE 189.1-2009 ExtWindow ClimateZone 3\n",
      "Proposed Window\n",
      "Sub Surface 103\n",
      "ASHRAE 189.1-2009 ExtWindow ClimateZone 3\n",
      "Proposed Window\n",
      "Sub Surface 104\n",
      "ASHRAE 189.1-2009 ExtWindow ClimateZone 3\n",
      "Proposed Window\n",
      "Sub Surface 105\n",
      "ASHRAE 189.1-2009 ExtWindow ClimateZone 3\n",
      "Proposed Window\n",
      "Sub Surface 106\n",
      "ASHRAE 189.1-2009 ExtWindow ClimateZone 3\n",
      "Proposed Window\n",
      "Sub Surface 107\n",
      "ASHRAE 189.1-2009 ExtWindow ClimateZone 3\n",
      "Proposed Window\n",
      "Sub Surface 108\n",
      "ASHRAE 189.1-2009 ExtWindow ClimateZone 3\n",
      "Proposed Window\n",
      "Sub Surface 111\n",
      "ASHRAE 189.1-2009 ExtWindow ClimateZone 3\n",
      "Proposed Window\n",
      "Sub Surface 113\n",
      "ASHRAE 189.1-2009 ExtWindow ClimateZone 3\n",
      "Proposed Window\n",
      "Sub Surface 115\n",
      "ASHRAE 189.1-2009 ExtWindow ClimateZone 3\n",
      "Proposed Window\n",
      "Sub Surface 116\n",
      "ASHRAE 189.1-2009 ExtWindow ClimateZone 3\n",
      "Proposed Window\n",
      "Sub Surface 117\n",
      "ASHRAE 189.1-2009 ExtWindow ClimateZone 3\n",
      "Proposed Window\n",
      "Sub Surface 118\n",
      "ASHRAE 189.1-2009 ExtWindow ClimateZone 3\n",
      "Proposed Window\n",
      "Sub Surface 120\n",
      "ASHRAE 189.1-2009 ExtWindow ClimateZone 3\n",
      "Proposed Window\n",
      "Sub Surface 121\n",
      "ASHRAE 189.1-2009 ExtWindow ClimateZone 3\n",
      "Proposed Window\n",
      "Sub Surface 122\n",
      "ASHRAE 189.1-2009 ExtWindow ClimateZone 3\n",
      "Proposed Window\n",
      "Sub Surface 125\n",
      "ASHRAE 189.1-2009 ExtWindow ClimateZone 3\n",
      "Proposed Window\n",
      "Sub Surface 126\n",
      "ASHRAE 189.1-2009 ExtWindow ClimateZone 3\n",
      "Proposed Window\n",
      "Sub Surface 127\n",
      "ASHRAE 189.1-2009 ExtWindow ClimateZone 3\n",
      "Proposed Window\n",
      "Sub Surface 130\n",
      "ASHRAE 189.1-2009 ExtWindow ClimateZone 3\n",
      "Proposed Window\n",
      "Sub Surface 131\n",
      "ASHRAE 189.1-2009 ExtWindow ClimateZone 3\n",
      "Proposed Window\n",
      "Sub Surface 132\n",
      "ASHRAE 189.1-2009 ExtWindow ClimateZone 3\n",
      "Proposed Window\n",
      "Sub Surface 133\n",
      "ASHRAE 189.1-2009 ExtWindow ClimateZone 3\n",
      "Proposed Window\n",
      "Sub Surface 134\n",
      "ASHRAE 189.1-2009 ExtWindow ClimateZone 3\n",
      "Proposed Window\n",
      "Sub Surface 135\n",
      "ASHRAE 189.1-2009 ExtWindow ClimateZone 3\n",
      "Proposed Window\n",
      "Sub Surface 136\n",
      "ASHRAE 189.1-2009 ExtWindow ClimateZone 3\n",
      "Proposed Window\n",
      "Sub Surface 139\n",
      "ASHRAE 189.1-2009 ExtWindow ClimateZone 3\n",
      "Proposed Window\n",
      "Sub Surface 140\n",
      "ASHRAE 189.1-2009 ExtWindow ClimateZone 3\n",
      "Proposed Window\n",
      "Sub Surface 1\n",
      "ASHRAE 189.1-2009 ExtWindow ClimateZone 3\n",
      "Proposed Window\n"
     ]
    }
   ],
   "source": [
    "# Windows\n",
    "m0.getSubSurfaces.each do |ss|\n",
    "  puts ss.name\n",
    "  puts ss.construction.get.name\n",
    "  ss.setConstruction(m0.getConstructionByName('Proposed Window').get)\n",
    "  puts ss.construction.get.name\n",
    "\n",
    "end\n",
    "nil"
   ]
  },
  {
   "cell_type": "code",
   "execution_count": 26,
   "metadata": {},
   "outputs": [
    {
     "data": {
      "text/plain": [
       "true"
      ]
     },
     "execution_count": 26,
     "metadata": {},
     "output_type": "execute_result"
    }
   ],
   "source": [
    "m0.save('Beach Green Dunes III ECM2.3.osm', true)"
   ]
  },
  {
   "cell_type": "markdown",
   "metadata": {},
   "source": [
    "# ECM 2.4 Electrochromic Glazing"
   ]
  },
  {
   "cell_type": "code",
   "execution_count": null,
   "metadata": {},
   "outputs": [],
   "source": []
  },
  {
   "cell_type": "markdown",
   "metadata": {},
   "source": [
    "# ECM 3.1 LED"
   ]
  },
  {
   "cell_type": "code",
   "execution_count": 27,
   "metadata": {},
   "outputs": [
    {
     "name": "stdout",
     "output_type": "stream",
     "text": [
      "4.520842375018086\n",
      "3.875007750015498\n",
      "7.7500155000310205\n",
      "3.229173125012916\n",
      "8.39585012503356\n",
      "9.687519375038761\n",
      "5.81251162502325\n",
      "5.166677000020668\n"
     ]
    }
   ],
   "source": [
    "m0.getLightsDefinitions.each do |l|\n",
    "  lpd_new = l.wattsperSpaceFloorArea.get * 0.6\n",
    "  puts lpd_new\n",
    "  l.setWattsperSpaceFloorArea(lpd_new)\n",
    "end\n",
    "nil"
   ]
  },
  {
   "cell_type": "code",
   "execution_count": 28,
   "metadata": {},
   "outputs": [
    {
     "data": {
      "text/plain": [
       "true"
      ]
     },
     "execution_count": 28,
     "metadata": {},
     "output_type": "execute_result"
    }
   ],
   "source": [
    "# set for apartment\n",
    "l = m0.getLightsDefinitionByName('189.1-2009 - MidriseApartment - Apartment - CZ4-8 Additional Lights Definition').get\n",
    "l.setWattsperSpaceFloorArea(0.4*10.7639)"
   ]
  },
  {
   "cell_type": "code",
   "execution_count": 29,
   "metadata": {},
   "outputs": [
    {
     "data": {
      "text/plain": [
       "true"
      ]
     },
     "execution_count": 29,
     "metadata": {},
     "output_type": "execute_result"
    }
   ],
   "source": [
    "m0.save('Beach Green Dunes III ECM3.1.osm', true)"
   ]
  },
  {
   "cell_type": "markdown",
   "metadata": {},
   "source": [
    "# ECM 3.2 occupancy sensor"
   ]
  },
  {
   "cell_type": "markdown",
   "metadata": {},
   "source": [
    "space types have reduction:\n"
   ]
  },
  {
   "cell_type": "code",
   "execution_count": 30,
   "metadata": {},
   "outputs": [
    {
     "name": "stdout",
     "output_type": "stream",
     "text": [
      "189.1-2009 - MidriseApartment - Apartment - CZ4-8 Additional Lights Definition\n",
      "189.1-2009 - Office - Stair - CZ4-8 Lights Definition\n",
      "189.1-2009 - Office - BreakRoom - CZ4-8 Lights Definition\n",
      "189.1-2009 - Office - Corridor - CZ4-8 Lights Definition\n",
      "189.1-2009 - Office - Lobby - CZ4-8 Lights Definition\n",
      "189.1-2009 - Office - Restroom - CZ4-8 Lights Definition\n"
     ]
    }
   ],
   "source": [
    "m0.getLightsDefinitions.each do |l|\n",
    "  if l.name.to_s.include?\"189.1-2009 - MidriseApartment - Apartment - CZ4-8 Additional Lights Definition\" \n",
    "    puts l.name\n",
    "    lpd_new = l.wattsperSpaceFloorArea.get * 0.67\n",
    "    l.setWattsperSpaceFloorArea(lpd_new)\n",
    "  end\n",
    "  \n",
    "  if l.name.to_s.include?\"BreakRoom\" or l.name.to_s.include?\"Corridor\" or l.name.to_s.include?\"Lobby\" or l.name.to_s.include?\"Restroom\" or l.name.to_s.include?\"Stair\"\n",
    "    puts l.name\n",
    "    lpd_new = l.wattsperSpaceFloorArea.get * 0.28\n",
    "    l.setWattsperSpaceFloorArea(lpd_new)\n",
    "  end\n",
    "end\n",
    "nil"
   ]
  },
  {
   "cell_type": "code",
   "execution_count": 31,
   "metadata": {},
   "outputs": [
    {
     "data": {
      "text/plain": [
       "true"
      ]
     },
     "execution_count": 31,
     "metadata": {},
     "output_type": "execute_result"
    }
   ],
   "source": [
    "m0.save('Beach Green Dunes III ECM3.2.osm', true)"
   ]
  },
  {
   "cell_type": "markdown",
   "metadata": {},
   "source": [
    "# ECM 3.3 Daylight Sensor  (removed)\n",
    "### need to apply to all spaces"
   ]
  },
  {
   "cell_type": "code",
   "execution_count": 163,
   "metadata": {},
   "outputs": [],
   "source": [
    "# m0 = osload('D:\\Box Sync\\PROJECTS\\Beach Green Dunes III\\PSEG-LI\\Model\\Beach Green Dunes III ECM3.2.osm')"
   ]
  },
  {
   "cell_type": "code",
   "execution_count": 164,
   "metadata": {},
   "outputs": [],
   "source": [
    "# new_sensor_objects = {}\n",
    "# affected_zones = []\n",
    "# affected_zone_names = []\n",
    "# area = 0\n",
    "\n",
    "# m0.getSpaces.each do |space|\n",
    "#   puts space.name\n",
    "#   area += space.floorArea\n",
    "  \n",
    "#   # eliminate spaces that don't have exterior natural lighting\n",
    "#   has_ext_nat_light = false\n",
    "#   space.surfaces.each do |surface|\n",
    "#     next if surface.outsideBoundaryCondition != 'Outdoors'\n",
    "#     surface.subSurfaces.each do |sub_surface|\n",
    "#       next if sub_surface.subSurfaceType == 'Door'\n",
    "#       next if sub_surface.subSurfaceType == 'OverheadDoor'\n",
    "#       has_ext_nat_light = true\n",
    "#     end\n",
    "#   end\n",
    "\n",
    "#   # find floors\n",
    "#   floors = []\n",
    "#   space.surfaces.each do |surface|\n",
    "#     next if surface.surfaceType != 'Floor'\n",
    "#     floors << surface\n",
    "#   end\n",
    "\n",
    "#   # this method only works for flat (non-inclined) floors\n",
    "#   boundingBox = OpenStudio::BoundingBox.new\n",
    "#   floors.each do |floor|\n",
    "#     boundingBox.addPoints(floor.vertices)\n",
    "#   end\n",
    "#   xmin = boundingBox.minX.get\n",
    "#   ymin = boundingBox.minY.get\n",
    "#   zmin = boundingBox.minZ.get\n",
    "#   xmax = boundingBox.maxX.get\n",
    "#   ymax = boundingBox.maxY.get\n",
    "\n",
    "#   # create a new sensor and put at the center of the space\n",
    "#   sensor = OpenStudio::Model::DaylightingControl.new(m0)\n",
    "#   sensor.setName(\"#{space.name} daylighting control\")\n",
    "#   x_pos = (xmin + xmax) / 2\n",
    "#   y_pos = (ymin + ymax) / 2\n",
    "#   z_pos = zmin + 0.762 # put it 1 meter above the floor\n",
    "#   new_point = OpenStudio::Point3d.new(x_pos, y_pos, z_pos)\n",
    "#   sensor.setPosition(new_point)\n",
    "#   sensor.setIlluminanceSetpoint(484)\n",
    "#   sensor.setLightingControlType('Continuous/Off')\n",
    "#   sensor.setMinimumInputPowerFractionforContinuousDimmingControl(0)\n",
    "#   sensor.setMinimumLightOutputFractionforContinuousDimmingControl(0)\n",
    "#   sensor.setSpace(space)\n",
    "#   puts sensor.setSpace(space)\n",
    "  \n",
    "#   temp_zone = space.thermalZone.get\n",
    "#   affected_zones << temp_zone\n",
    "#   affected_zone_names << temp_zone.name.to_s\n",
    "  \n",
    "#   new_sensor_objects[temp_zone.name.to_s] = sensor\n",
    "\n",
    "# end\n",
    "# nil"
   ]
  },
  {
   "cell_type": "code",
   "execution_count": 165,
   "metadata": {},
   "outputs": [],
   "source": [
    "# affected_zones.each do |zone|\n",
    "#   zone.setPrimaryDaylightingControl(new_sensor_objects[zone.name.to_s])\n",
    "#   zone.setFractionofZoneControlledbyPrimaryDaylightingControl(1)\n",
    "# end\n",
    "# nil"
   ]
  },
  {
   "cell_type": "code",
   "execution_count": 166,
   "metadata": {},
   "outputs": [],
   "source": [
    "# m0.save('Beach Green Dunes III ECM3.3.osm', true)"
   ]
  },
  {
   "cell_type": "code",
   "execution_count": null,
   "metadata": {},
   "outputs": [],
   "source": []
  },
  {
   "cell_type": "markdown",
   "metadata": {},
   "source": [
    "# ECM 4.1 High efficiency equipment (EnergyStar refrigerator, cloth washer, dishwasher)\n",
    "\n",
    "### Apt: 0.97 W/ft2 --> 0.86W/ft2\n",
    "### laundry: 27.95 W/ft2 --> 27.16W/ft2"
   ]
  },
  {
   "cell_type": "code",
   "execution_count": 32,
   "metadata": {},
   "outputs": [
    {
     "data": {
      "text/plain": [
       "true"
      ]
     },
     "execution_count": 32,
     "metadata": {},
     "output_type": "execute_result"
    }
   ],
   "source": [
    "d1 = m0.getElectricEquipmentDefinitionByName(\"189.1-2009 - MidriseApartment - Apartment - CZ4-8 Electric Equipment Definition\").get\n",
    "d1.setWattsperSpaceFloorArea(0.86 * 10.7639)\n",
    "d2 = m0.getElectricEquipmentDefinitionByName(\"Laundry Electric Equipment Definition\").get\n",
    "d2.setWattsperSpaceFloorArea(27.16 * 10.7639)"
   ]
  },
  {
   "cell_type": "code",
   "execution_count": 33,
   "metadata": {},
   "outputs": [
    {
     "data": {
      "text/plain": [
       "true"
      ]
     },
     "execution_count": 33,
     "metadata": {},
     "output_type": "execute_result"
    }
   ],
   "source": [
    "water = m0.getWaterUseEquipmentDefinitionByName(\"Water Fixture Definition\").get\n",
    "water.setPeakFlowRate(water.peakFlowRate * 11.4 / 12.4) # dish washer (energy star)"
   ]
  },
  {
   "cell_type": "code",
   "execution_count": 34,
   "metadata": {},
   "outputs": [
    {
     "data": {
      "text/plain": [
       "true"
      ]
     },
     "execution_count": 34,
     "metadata": {},
     "output_type": "execute_result"
    }
   ],
   "source": [
    "m0.save('Beach Green Dunes III ECM4.1.osm', true)"
   ]
  },
  {
   "cell_type": "markdown",
   "metadata": {},
   "source": [
    "# ECM 4.2"
   ]
  },
  {
   "cell_type": "code",
   "execution_count": 35,
   "metadata": {},
   "outputs": [
    {
     "data": {
      "text/plain": [
       "true"
      ]
     },
     "execution_count": 35,
     "metadata": {},
     "output_type": "execute_result"
    }
   ],
   "source": [
    "water = m0.getWaterUseEquipmentDefinitionByName(\"Water Fixture Definition\").get\n",
    "water.setPeakFlowRate(water.peakFlowRate * 8.6 / 11.4) # (toilet, faucets, showerhead)"
   ]
  },
  {
   "cell_type": "code",
   "execution_count": 36,
   "metadata": {},
   "outputs": [
    {
     "data": {
      "text/plain": [
       "true"
      ]
     },
     "execution_count": 36,
     "metadata": {},
     "output_type": "execute_result"
    }
   ],
   "source": [
    "m0.save('Beach Green Dunes III ECM4.2.osm', true)"
   ]
  },
  {
   "cell_type": "markdown",
   "metadata": {},
   "source": [
    "# ECM 4.3 Low Flow Fixture\n",
    "\n",
    "### peak flow rate "
   ]
  },
  {
   "cell_type": "code",
   "execution_count": 37,
   "metadata": {},
   "outputs": [
    {
     "data": {
      "text/plain": [
       "true"
      ]
     },
     "execution_count": 37,
     "metadata": {},
     "output_type": "execute_result"
    }
   ],
   "source": [
    "water = m0.getWaterUseEquipmentDefinitionByName(\"Water Fixture Definition\").get\n",
    "water.setPeakFlowRate(water.peakFlowRate * 6.9 / 8.6) # (toilet, faucets, showerhead)\n"
   ]
  },
  {
   "cell_type": "code",
   "execution_count": 38,
   "metadata": {},
   "outputs": [
    {
     "data": {
      "text/plain": [
       "true"
      ]
     },
     "execution_count": 38,
     "metadata": {},
     "output_type": "execute_result"
    }
   ],
   "source": [
    "m0.save('Beach Green Dunes III ECM4.3.osm', true)"
   ]
  },
  {
   "cell_type": "code",
   "execution_count": null,
   "metadata": {},
   "outputs": [],
   "source": []
  },
  {
   "cell_type": "code",
   "execution_count": null,
   "metadata": {},
   "outputs": [],
   "source": []
  },
  {
   "cell_type": "code",
   "execution_count": null,
   "metadata": {},
   "outputs": [],
   "source": []
  },
  {
   "cell_type": "code",
   "execution_count": null,
   "metadata": {},
   "outputs": [],
   "source": []
  },
  {
   "cell_type": "markdown",
   "metadata": {},
   "source": [
    "# Extra code (for updating all models)"
   ]
  },
  {
   "cell_type": "code",
   "execution_count": 46,
   "metadata": {},
   "outputs": [
    {
     "data": {
      "text/plain": [
       ":update_plug_load"
      ]
     },
     "execution_count": 46,
     "metadata": {},
     "output_type": "execute_result"
    }
   ],
   "source": [
    "def update_plug_load(name)\n",
    "  m = osload('D:\\Box Sync\\PROJECTS\\Beach Green Dunes III\\PSEG-LI\\Model\\Beach Green Dunes III ' + name + '.osm')\n",
    "  d1 = m.getElectricEquipmentDefinitionByName(\"189.1-2009 - MidriseApartment - Apartment - CZ4-8 Electric Equipment Definition\").get\n",
    "  d1.setWattsperSpaceFloorArea(0.97*10.7639)\n",
    "  d2 = m.getElectricEquipmentDefinitionByName(\"Laundry Electric Equipment Definition\").get\n",
    "  d2.setWattsperSpaceFloorArea(27.95*10.7639)\n",
    "  m.save('D:\\Box Sync\\PROJECTS\\Beach Green Dunes III\\PSEG-LI\\Model\\Beach Green Dunes III ' + name + '.osm',true)\n",
    "end"
   ]
  },
  {
   "cell_type": "code",
   "execution_count": 47,
   "metadata": {},
   "outputs": [
    {
     "data": {
      "text/plain": [
       "true"
      ]
     },
     "execution_count": 47,
     "metadata": {},
     "output_type": "execute_result"
    }
   ],
   "source": [
    "update_plug_load('baseline')"
   ]
  },
  {
   "cell_type": "code",
   "execution_count": 48,
   "metadata": {},
   "outputs": [
    {
     "data": {
      "text/plain": [
       "[\"ECM1.1\", \"ECM1.2\", \"ECM1.3\", \"ECM1.4\", \"ECM1.5\", \"ECM1.6\", \"ECM1.7\"]"
      ]
     },
     "execution_count": 48,
     "metadata": {},
     "output_type": "execute_result"
    }
   ],
   "source": [
    "['ECM1.1','ECM1.2','ECM1.3','ECM1.4','ECM1.5','ECM1.6','ECM1.7'].each do |m|\n",
    "  update_plug_load(m)\n",
    "end"
   ]
  },
  {
   "cell_type": "code",
   "execution_count": 49,
   "metadata": {},
   "outputs": [
    {
     "data": {
      "text/plain": [
       "[\"ECM2.1\", \"ECM2.2\", \"ECM2.3\", \"ECM3.1\", \"ECM3.2\", \"ECM3.3\"]"
      ]
     },
     "execution_count": 49,
     "metadata": {},
     "output_type": "execute_result"
    }
   ],
   "source": [
    "['ECM2.1','ECM2.2','ECM2.3','ECM3.1','ECM3.2','ECM3.3'].each do |m|\n",
    "  update_plug_load(m)\n",
    "end"
   ]
  },
  {
   "cell_type": "code",
   "execution_count": null,
   "metadata": {},
   "outputs": [],
   "source": []
  },
  {
   "cell_type": "code",
   "execution_count": 50,
   "metadata": {},
   "outputs": [
    {
     "data": {
      "text/plain": [
       ":update_flow_fixture"
      ]
     },
     "execution_count": 50,
     "metadata": {},
     "output_type": "execute_result"
    }
   ],
   "source": [
    "def update_flow_fixture(name)\n",
    "  m = osload('D:\\Box Sync\\PROJECTS\\Beach Green Dunes III\\PSEG-LI\\Model\\Beach Green Dunes III ' + name + '.osm')\n",
    "  water = m.getWaterUseEquipmentDefinitionByName(\"Water Fixture Definition\").get\n",
    "  water.setPeakFlowRate(water.peakFlowRate * 12.4 / 10.4)\n",
    "  m.save('D:\\Box Sync\\PROJECTS\\Beach Green Dunes III\\PSEG-LI\\Model\\Beach Green Dunes III ' + name + '.osm',true)\n",
    "end"
   ]
  },
  {
   "cell_type": "code",
   "execution_count": 51,
   "metadata": {},
   "outputs": [
    {
     "data": {
      "text/plain": [
       "[\"ECM1.1\", \"ECM1.2\", \"ECM1.3\", \"ECM1.4\", \"ECM1.5\", \"ECM1.6\", \"ECM1.7\"]"
      ]
     },
     "execution_count": 51,
     "metadata": {},
     "output_type": "execute_result"
    }
   ],
   "source": [
    "['ECM1.1','ECM1.2','ECM1.3','ECM1.4','ECM1.5','ECM1.6','ECM1.7'].each do |m|\n",
    "  update_flow_fixture(m)\n",
    "end"
   ]
  },
  {
   "cell_type": "code",
   "execution_count": 52,
   "metadata": {},
   "outputs": [
    {
     "data": {
      "text/plain": [
       "[\"ECM2.1\", \"ECM2.2\", \"ECM2.3\", \"ECM3.1\", \"ECM3.2\", \"ECM3.3\"]"
      ]
     },
     "execution_count": 52,
     "metadata": {},
     "output_type": "execute_result"
    }
   ],
   "source": [
    "['ECM2.1','ECM2.2','ECM2.3','ECM3.1','ECM3.2','ECM3.3'].each do |m|\n",
    "  update_flow_fixture(m)\n",
    "end"
   ]
  },
  {
   "cell_type": "code",
   "execution_count": 53,
   "metadata": {},
   "outputs": [
    {
     "data": {
      "text/plain": [
       "true"
      ]
     },
     "execution_count": 53,
     "metadata": {},
     "output_type": "execute_result"
    }
   ],
   "source": [
    "update_flow_fixture('baseline')"
   ]
  },
  {
   "cell_type": "code",
   "execution_count": null,
   "metadata": {},
   "outputs": [],
   "source": []
  },
  {
   "cell_type": "code",
   "execution_count": 57,
   "metadata": {},
   "outputs": [
    {
     "data": {
      "text/plain": [
       "true"
      ]
     },
     "execution_count": 57,
     "metadata": {},
     "output_type": "execute_result"
    }
   ],
   "source": [
    "# set for apartment\n",
    "model_name = 'D:\\Box Sync\\PROJECTS\\Beach Green Dunes III\\PSEG-LI\\Model\\Beach Green Dunes III ECM4.3.osm'\n",
    "m0 = osload(model_name)\n",
    "l = m0.getLightsDefinitionByName('189.1-2009 - MidriseApartment - Apartment - CZ4-8 Additional Lights Definition').get\n",
    "l.setWattsperSpaceFloorArea(0.4*10.7639)\n",
    "m0.save(model_name, true)"
   ]
  },
  {
   "cell_type": "code",
   "execution_count": 58,
   "metadata": {},
   "outputs": [
    {
     "data": {
      "text/plain": [
       "#<OpenStudio::Model::ElectricEquipmentDefinition:0x0000000db7c728 @__swigtype__=\"_p_openstudio__model__ElectricEquipmentDefinition\">"
      ]
     },
     "execution_count": 58,
     "metadata": {},
     "output_type": "execute_result"
    }
   ],
   "source": [
    "p = m0.getElectricEquipmentDefinitions[0]"
   ]
  },
  {
   "cell_type": "code",
   "execution_count": 66,
   "metadata": {},
   "outputs": [
    {
     "data": {
      "text/plain": [
       "292.347524"
      ]
     },
     "execution_count": 66,
     "metadata": {},
     "output_type": "execute_result"
    }
   ],
   "source": [
    "p.wattsperSpaceFloorArea.get"
   ]
  },
  {
   "cell_type": "code",
   "execution_count": null,
   "metadata": {},
   "outputs": [],
   "source": []
  },
  {
   "cell_type": "code",
   "execution_count": 70,
   "metadata": {},
   "outputs": [
    {
     "data": {
      "text/plain": [
       ":update_plug_load"
      ]
     },
     "execution_count": 70,
     "metadata": {},
     "output_type": "execute_result"
    }
   ],
   "source": [
    "def update_plug_load(name)\n",
    "  m = osload('D:\\Box Sync\\PROJECTS\\Beach Green Dunes III\\PSEG-LI\\Model\\Beach Green Dunes III ' + name + '.osm')\n",
    "  plug_load = m.getElectricEquipmentDefinitionByName(\"Laundry Electric Equipment Definition\").get\n",
    "  plug_load.setWattsperSpaceFloorArea(13.16 * 10.7639)\n",
    "  m.save('D:\\Box Sync\\PROJECTS\\Beach Green Dunes III\\PSEG-LI\\Model\\Beach Green Dunes III ' + name + '.osm',true)\n",
    "end"
   ]
  },
  {
   "cell_type": "code",
   "execution_count": 71,
   "metadata": {},
   "outputs": [
    {
     "data": {
      "text/plain": [
       "10.7639"
      ]
     },
     "execution_count": 71,
     "metadata": {},
     "output_type": "execute_result"
    }
   ],
   "source": [
    "10.7639"
   ]
  },
  {
   "cell_type": "code",
   "execution_count": 72,
   "metadata": {},
   "outputs": [
    {
     "data": {
      "text/plain": [
       "[\"baseline\", \"ECM1.1\", \"ECM1.2\", \"ECM1.3\", \"ECM1.4\", \"ECM1.5\", \"ECM2.1\", \"ECM2.2\", \"ECM2.3\", \"ECM2.4\", \"ECM3.1\", \"ECM3.2\", \"ECM3.3\"]"
      ]
     },
     "execution_count": 72,
     "metadata": {},
     "output_type": "execute_result"
    }
   ],
   "source": [
    "['baseline','ECM1.1','ECM1.2','ECM1.3','ECM1.4','ECM1.5','ECM2.1','ECM2.2','ECM2.3','ECM2.4','ECM3.1','ECM3.2','ECM3.3'].each do |m|\n",
    "  update_plug_load(m)\n",
    "end"
   ]
  },
  {
   "cell_type": "code",
   "execution_count": 73,
   "metadata": {},
   "outputs": [
    {
     "data": {
      "text/plain": [
       ":update_plug_load_1"
      ]
     },
     "execution_count": 73,
     "metadata": {},
     "output_type": "execute_result"
    }
   ],
   "source": [
    "def update_plug_load_1(name)\n",
    "  m = osload('D:\\Box Sync\\PROJECTS\\Beach Green Dunes III\\PSEG-LI\\Model\\Beach Green Dunes III ' + name + '.osm')\n",
    "  plug_load = m.getElectricEquipmentDefinitionByName(\"Laundry Electric Equipment Definition\").get\n",
    "  plug_load.setWattsperSpaceFloorArea(12.59 * 10.7639)\n",
    "  m.save('D:\\Box Sync\\PROJECTS\\Beach Green Dunes III\\PSEG-LI\\Model\\Beach Green Dunes III ' + name + '.osm',true)\n",
    "end"
   ]
  },
  {
   "cell_type": "code",
   "execution_count": 74,
   "metadata": {},
   "outputs": [
    {
     "data": {
      "text/plain": [
       "[\"ECM4.1\", \"ECM4.2\", \"ECM4.3\"]"
      ]
     },
     "execution_count": 74,
     "metadata": {},
     "output_type": "execute_result"
    }
   ],
   "source": [
    "['ECM4.1','ECM4.2','ECM4.3'].each do |m|\n",
    "  update_plug_load_1(m)\n",
    "end"
   ]
  },
  {
   "cell_type": "code",
   "execution_count": null,
   "metadata": {},
   "outputs": [],
   "source": []
  }
 ],
 "metadata": {
  "kernelspec": {
   "display_name": "Ruby 2.2.4",
   "language": "ruby",
   "name": "ruby"
  },
  "language_info": {
   "file_extension": ".rb",
   "mimetype": "application/x-ruby",
   "name": "ruby",
   "version": "2.2.4"
  }
 },
 "nbformat": 4,
 "nbformat_minor": 2
}
